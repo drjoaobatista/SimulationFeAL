{
 "cells": [
  {
   "cell_type": "code",
   "execution_count": 1,
   "metadata": {},
   "outputs": [],
   "source": [
    "import numpy as np "
   ]
  },
  {
   "cell_type": "code",
   "execution_count": 2,
   "metadata": {},
   "outputs": [],
   "source": [
    "from Enviar import Receber"
   ]
  },
  {
   "cell_type": "code",
   "execution_count": 3,
   "metadata": {},
   "outputs": [],
   "source": [
    "import jscatter as js"
   ]
  },
  {
   "cell_type": "code",
   "execution_count": 4,
   "metadata": {},
   "outputs": [],
   "source": [
    "from scipy import stats"
   ]
  },
  {
   "cell_type": "code",
   "execution_count": 5,
   "metadata": {},
   "outputs": [],
   "source": [
    "import math "
   ]
  },
  {
   "cell_type": "code",
   "execution_count": 6,
   "metadata": {},
   "outputs": [],
   "source": [
    "import scipy.interpolate, scipy.optimize"
   ]
  },
  {
   "cell_type": "code",
   "execution_count": 41,
   "metadata": {},
   "outputs": [],
   "source": [
    "receber=Receber(nomeRef='20-05-1-A17-f')\n",
    "receber()\n",
    "dados=receber.dados"
   ]
  },
  {
   "cell_type": "code",
   "execution_count": 42,
   "metadata": {},
   "outputs": [
    {
     "output_type": "execute_result",
     "data": {
      "text/plain": "dict_keys(['t', 'mag', 'mag2', 'logmag2', 'energia', 'calor', 'sus', 'cumu', 'cumuE', 'tc', 'parametroOrdem', 'duracao', 'relaxacaoHistograma', 'mcsHistograma', 'A', 'B', 'numeroPontos', 'raio', 'mcsTroca', 'L', 'q', 't0'])"
     },
     "metadata": {},
     "execution_count": 42
    }
   ],
   "source": [
    "dados[1].keys()"
   ]
  },
  {
   "cell_type": "code",
   "execution_count": 43,
   "metadata": {},
   "outputs": [
    {
     "output_type": "stream",
     "name": "stdout",
     "text": "1.7\n10\n0.021\n"
    }
   ],
   "source": [
    "print(dados[1].get(\"A\"))\n",
    "print(dados[1].get(\"L\"))\n",
    "print(dados[1].get(\"q\"))"
   ]
  },
  {
   "cell_type": "code",
   "execution_count": 44,
   "metadata": {},
   "outputs": [],
   "source": [
    "concentracao=[0, 0.021, 0.025, 0.04, 0.05,  0.06, 0.07,  0.075, 0.08, 0.09,  0.1,  0.11, 0.12,0.13, 0.14, 0.15, 0.16, 0.17, 0.18, 0.198, 0.2, 0.22, 0.3, 0.4]\n"
   ]
  },
  {
   "cell_type": "code",
   "execution_count": 45,
   "metadata": {},
   "outputs": [],
   "source": [
    "class Resultado():\n",
    "    def __init__(self, **kwargs):\n",
    "        self.dados=kwargs.get('dados')\n",
    "        \n",
    "    def plotDiagrama(self, L=10, A=1.7, **kargs):\n",
    "        concentracao=kargs.get(\"concentracao\")\n",
    "        p=js.grace()\n",
    "        p.yaxis(label='tc',charsize=1.50)\n",
    "        p.xaxis(label='q',charsize=1.50)\n",
    "        x=[]\n",
    "        y=[]   \n",
    "        for q in concentracao: \n",
    "            for dado in self.dados:\n",
    "                if dado.get('q')== q and dado.get('L')==L and dado.get('A')==A:\n",
    "                    y.append(dado.get('t0'))\n",
    "                    x.append(q)\n",
    "        if len(y)>0:\n",
    "            p.plot(x,y,symbol=-1,line=[1,1,''],legend='Q=$q')\n",
    "        else:\n",
    "            print(\"erro na seleção dos dados, seleção vazia\")\n",
    "    \n",
    "\n",
    "\n",
    "    \n",
    "    def plotDiagrama2(self,erro=0.2, L=10, A=1.7, **kargs):\n",
    "        concentracao=kargs.get(\"concentracao\")\n",
    "        p=js.grace()\n",
    "        p.yaxis(label='tc',charsize=1.50)\n",
    "        p.xaxis(label='q',charsize=1.50)\n",
    "        x=[]\n",
    "        y=[]   \n",
    "        for q in concentracao: \n",
    "            for dado in self.dados:\n",
    "                if dado.get('q')== q and dado.get('L')==L and dado.get('A')==A:\n",
    "                    if abs(dado.get('t0')-dado.get('tc'))<erro:\n",
    "                        y.append(dado.get('t0'))\n",
    "                        x.append(q)\n",
    "        if len(y)>0:\n",
    "            p.plot(x,y,symbol=-1,line=[1,1,''],legend='Q=$q')\n",
    "        else:\n",
    "            print(\"erro na seleção dos dados, seleção vazia\")\n",
    "    \n",
    "   \n",
    "    def plotDiagramaFiltrado(self,L=10, A=1.7,Z=2.5, **kargs):\n",
    "        concentracao=kargs.get(\"concentracao\")\n",
    "        tamanhos=kargs.get(\"tamanhos\")\n",
    "        if not tamanhos:\n",
    "            tamanhos=[L]\n",
    "        p=js.grace()\n",
    "        p.yaxis(label='tc',charsize=1.50)\n",
    "        p.xaxis(label='q',charsize=1.50)\n",
    "        for q in concentracao: \n",
    "            x=[]\n",
    "            y=[]   \n",
    "            for dado in self.dados:\n",
    "                if dado.get('q')== q and dado.get('L')==L and dado.get('A')==A:\n",
    "                    y.append(dado.get('tc'))\n",
    "                    x.append(q)\n",
    "            zscore=stats.zscore(np.array(y))\n",
    "            X=[]\n",
    "            Y=[]\n",
    "            for xx,yy,zz in zip(x, y, zscore.tolist()):\n",
    "                if abs(zz) < Z:\n",
    "                    Y.append(yy)\n",
    "                    X.append(xx)\n",
    "            p.plot(X,Y,symbol=-1,line=[1,1,''],legend='Q=$q')\n",
    "\n",
    "    def plotDiagramaMedio(self, L=10, A=1.7, Z=2.5, **kargs):\n",
    "        tamanhos=kargs.get(\"tamanhos\")\n",
    "        if not tamanhos:\n",
    "            tamanhos=[L]\n",
    "        concentracao=kargs.get(\"concentracao\")\n",
    "        p=js.grace()\n",
    "        p.yaxis(label='tc',charsize=1.50)\n",
    "        p.xaxis(label='q',charsize=1.50)\n",
    "        for L in tamanhos:\n",
    "            xmedia=[]\n",
    "            ymedia=[]\n",
    "            yErro=[]\n",
    "            for q in concentracao: \n",
    "                x=[]\n",
    "                y=[]   \n",
    "                for dado in self.dados:\n",
    "                    if dado.get('q')== q and dado.get('L')==L and dado.get('A')==A:\n",
    "                        y.append(dado.get('tc'))\n",
    "                        x.append(q)\n",
    "                zscore=stats.zscore(np.array(y))\n",
    "                X=[]\n",
    "                Y=[]\n",
    "                for xx,yy,zz in zip(x, y, zscore.tolist()):\n",
    "                    if abs(zz) < Z:\n",
    "                        Y.append(yy)\n",
    "                        X.append(xx)\n",
    "                ymedia.append(np.average(Y))\n",
    "                yErro.append(np.std(Y)/(math.sqrt(len(Y))))\n",
    "                xmedia.append(np.average(X))\n",
    "            expe=[2.0938997, 2.091892414662, 2.089885129325, 2.083863273312, 2.077841417299, 2.071819561285, 2.065797705272, 2.065797705272, 2.061783134597, 2.053753993246, 2.043717566558, 2.037695710545, 2.027659283857, 2.017622857168, 2.003571859804, 1.989520862441, 1.975469865077, 1.9553970117, 1.941346014336, 1.889156595557, 1.881127454206, 1.814887038063]\n",
    "            p.plot(xmedia,ymedia,yErro,symbol=-1,line=[1,1,''],legend='p')\n",
    "            p.plot(xmedia,expe,yErro,symbol=-1,line=[1,1,''],legend='p')\n",
    "            print(xmedia)\n",
    "    \n",
    "\n",
    "    def plotDiagramaMedio2(self,erro=0.01, L=10, A=1.7, Z=2.5, **kargs):\n",
    "    \n",
    "        tamanhos=kargs.get(\"tamanhos\")\n",
    "        if not tamanhos:\n",
    "            tamanhos=[L]\n",
    "        concentracao=kargs.get(\"concentracao\")\n",
    "        p=js.grace()\n",
    "        p.yaxis(label='tc',charsize=1.50)\n",
    "        p.xaxis(label='q',charsize=1.50)\n",
    "        for L in tamanhos:\n",
    "            xmedia=[]\n",
    "            ymedia=[]\n",
    "            yErro=[]\n",
    "            for q in concentracao: \n",
    "                x=[]\n",
    "                y=[]   \n",
    "                for dado in self.dados:\n",
    "                    if dado.get('q')== q and dado.get('L')==L and dado.get('A')==A:\n",
    "                        if abs(dado.get('tc')-dado.get('t0'))<erro:\n",
    "                            y.append(dado.get('tc'))\n",
    "                            x.append(q)\n",
    "                zscore=stats.zscore(np.array(y))\n",
    "                X=[]\n",
    "                Y=[]\n",
    "                for xx,yy,zz in zip(x, y, zscore.tolist()):\n",
    "                    if abs(zz) < Z:\n",
    "                        Y.append(yy)\n",
    "                        X.append(xx)\n",
    "                ymedia.append(np.average(Y))\n",
    "                yErro.append(np.std(Y)/(math.sqrt(len(Y))))\n",
    "                xmedia.append(np.average(X))\n",
    "            print(xmedia)\n",
    "            print(ymedia)\n",
    "            p.plot(xmedia,ymedia,yErro,symbol=-1,line=[1,1,''],legend='p')\n",
    "    def plot(self,L=10, A=1.7, x='t', y='sus', **kargs):\n",
    "        concentracao=kargs.get(\"concentracao\")\n",
    "        p=js.grace()\n",
    "        p.yaxis(label=y,charsize=1.50)\n",
    "        p.xaxis(label=x,charsize=1.50)\n",
    "        for i, q in enumerate(concentracao):\n",
    "            for dado in self.dados:\n",
    "                if dado.get('q')== q and dado.get('L')==L and dado.get('A')==A:\n",
    "                    p.plot(dado.get(x), dado.get(y), symbol=[0,0.3,i], line =[1,1,i])\n",
    "\n",
    "    def plotOrdem(self,L=10, A=1.7, y=\"parametroOrdem\", **kargs):\n",
    "        concentracao=kargs.get(\"concentracao\")\n",
    "        p=js.grace()\n",
    "        p.yaxis(label=\"y\",charsize=1.50)\n",
    "        p.xaxis(label=\"x\",charsize=1.50)\n",
    "        for i, q in enumerate(concentracao):\n",
    "            for dado in self.dados:\n",
    "                if dado.get('q')== q and dado.get('L')==L and dado.get('A')==A:\n",
    "                    parametroOrdemA=dado.get(y)\n",
    "                    p.plot(list(range(len(parametroOrdemA))), parametroOrdemA, symbol=[0,0.3,i], line =[1,1,i])                \n",
    "    \n",
    "    \n",
    "    def plotMedia(self,L=10, A=1.7, x='t', y='sus', **kargs):\n",
    "        concentracao=kargs.get(\"concentracao\")\n",
    "        tamanhos=kargs.get(\"tamanhos\")\n",
    "        if not tamanhos:\n",
    "            tamanhos=[L]\n",
    "        p=js.grace()\n",
    "        p.yaxis(label=y,charsize=1.50)\n",
    "        p.xaxis(label=x,charsize=1.50)  \n",
    "        cont=0\n",
    "        for L in tamanhos:\n",
    "            for i, q in enumerate(concentracao):\n",
    "                somaY=np.zeros(len(dados[0].get(x)), dtype=float)\n",
    "                cont=0\n",
    "                for dado in self.dados:\n",
    "                    if dado.get('q')== q and dado.get('L')==L and dado.get('A')==A:\n",
    "                        somaY += np.array(dado.get(y))\n",
    "                        if cont==0 :\n",
    "                            xx=dado.get(x)\n",
    "                        cont += 1\n",
    "                somaY= somaY/cont\n",
    "                p.plot(xx, somaY.tolist(), symbol=[0,0.3,i], line =[1,2,i] ,legend='q='+repr(q))\n",
    "\n",
    "    def plotDiagramaCruzamentoMedia(self,L=10, A=1.7,  x='t', y='sus', **kargs):\n",
    "        concentracao=kargs.get(\"concentracao\")\n",
    "        tamanhos=kargs.get(\"tamanhos\")\n",
    "        if not tamanhos:\n",
    "            tamanhos=[L]\n",
    "        p=js.grace()\n",
    "        p.yaxis(label=y,charsize=1.50)\n",
    "        p.xaxis(label=x,charsize=1.50)  \n",
    "        cont=0\n",
    "        tcs=[]\n",
    "        for i, q in enumerate(concentracao):\n",
    "            somaY1=np.zeros(len(dados[0].get(x)), dtype=float)\n",
    "            somaY2=np.zeros(len(dados[0].get(x)), dtype=float)\n",
    "            cont1=0\n",
    "            cont2=0\n",
    "            for dado in self.dados:\n",
    "                if dado.get('q')== q and dado.get('L')==tamanhos[0] and dado.get('A')==A:\n",
    "                    somaY1 += np.array(dado.get(y))\n",
    "                    if cont==0 :\n",
    "                        xx1=dado.get(x)\n",
    "                    cont1 += 1\n",
    "                if dado.get('p')== q and dado.get('L')==tamanhos[1] and dado.get('A')==A:\n",
    "                    somaY2 += np.array(dado.get(y))\n",
    "                    if cont==0 :\n",
    "                        xx2=dado.get(x)\n",
    "                        t0=dado.get(\"tc\")\n",
    "                    cont2 += 1\n",
    "            somaY1= somaY1/cont1\n",
    "            somaY2= somaY2/cont2\n",
    "            tc=self.cruzamento(xx1,somaY1.tolist(),xx2, somaY2.tolist(), t0)[0]\n",
    "            tcs.append(tc)\n",
    "        print(tcs)\n",
    "        p.plot(concentracao, tcs, symbol=[0,0.3,1], line =[1,2,1] )\n",
    "\n",
    "\n",
    "    def plotFiltrados(self, Z=2.5, x='t', y='sus', L=10, A=1.7, **kargs):\n",
    "        concentracao=kargs.get(\"concentracao\")\n",
    "        p=js.grace()\n",
    "        p.yaxis(label=y,charsize=1.50)\n",
    "        p.xaxis(label=x,charsize=1.50)\n",
    "        for i, q in enumerate(concentracao):\n",
    "            Y=[]\n",
    "            CurvasX=[]\n",
    "            CurvasY=[]\n",
    "            for dado in self.dados:\n",
    "                if dado.get('q')== q and dado.get('L')==L and dado.get('A')==A:\n",
    "                    Y.append(dado.get('tc'))\n",
    "                    CurvasX.append(dado.get(x))\n",
    "                    CurvasY.append(dado.get(y))\n",
    "            zscore=stats.zscore(np.array(Y))        \n",
    "            for zz,tt,suss in zip(zscore.tolist(),CurvasX,CurvasY):\n",
    "                if abs(zz) < Z:\n",
    "                    p.plot(tt,suss, symbol=[0,0.3,i], line  =[1,1,i])#,legend='Q=$q')\n",
    "    \n",
    "    def PlotCruzamentos(self,A=1.7, Z=2.5, **kargs):\n",
    "        concentracao=kargs.get(\"concentracao\")\n",
    "        tamanhos=kargs.get(\"tamanhos\")\n",
    "        tcmedio=[]\n",
    "        tcerro=[]\n",
    "        p=js.grace()\n",
    "        p.yaxis(label='tc',charsize=1.50)\n",
    "        p.xaxis(label='q',charsize=1.50)\n",
    "        for q in concentracao:\n",
    "            listasx1=[]\n",
    "            listasy1=[]\n",
    "            listast01=[]\n",
    "\n",
    "            listasx2=[]\n",
    "            listasy2=[]\n",
    "            listast02=[]\n",
    "            for dado in self.dados:\n",
    "                if dado.get('q')== q and dado.get('L')==tamanhos[0] and dado.get('A')==A:\n",
    "                    listasx1.append(dado.get('t'))\n",
    "                    listasy1.append(dado.get('cumu'))\n",
    "                    listast01.append(dado.get('tc'))\n",
    "                if dado.get('q')== q and dado.get('L')==tamanhos[1] and dado.get('A')==A:\n",
    "                    listasx2.append(dado.get('t'))\n",
    "                    listasy2.append(dado.get('cumu'))\n",
    "                    listast02.append(dado.get('tc'))\n",
    "            \n",
    "            listasX1=[]\n",
    "            listasY1=[]\n",
    "            listasT01=[]\n",
    "            zscore=stats.zscore(np.array(listast01))        \n",
    "            for zz,xx1,yy1, tt1 in zip(zscore.tolist(),listasx1,listasy1,listast01):\n",
    "                if abs(zz) < Z:\n",
    "                    listasX1.append(xx1)\n",
    "                    listasY1.append(yy1)\n",
    "                    listasT01.append(tt1)\n",
    "            \n",
    "            \n",
    "            listasX2=[]\n",
    "            listasY2=[]\n",
    "            listasT02=[]\n",
    "            zscore=stats.zscore(np.array(listast02))        \n",
    "            for zz,xx2,yy2, tt2 in zip(zscore.tolist(),listasx2,listasy2,listast02):\n",
    "                if abs(zz) < Z:\n",
    "                    listasX2.append(xx2)\n",
    "                    listasY2.append(yy2)\n",
    "                    listasT02.append(tt2)\n",
    "\n",
    "            xCrossing=[]\n",
    "            yCrossing=[]\n",
    "            for x1, y1  in zip(listasX1, listasY1):\n",
    "                interp1 = scipy.interpolate.InterpolatedUnivariateSpline(x1, y1)\n",
    "                for x2, y2 , x0 in zip(listasX2, listasY2, listasT02):\n",
    "                    interp2 = scipy.interpolate.InterpolatedUnivariateSpline(x2, y2)\n",
    "                    x_at_crossing = scipy.optimize.fsolve(lambda x : np.abs(interp1(x) - interp2(x)), x0=x0)\n",
    "                    xc=x_at_crossing[0]\n",
    "                    #yc=interp1(xc)\n",
    "                    xCrossing.append(xc)\n",
    "                    #yCrossing.append(yc)\n",
    "            zscore=stats.zscore(np.array(xCrossing))        \n",
    "            for zz,tcc in zip(zscore.tolist(),xCrossing):\n",
    "                if abs(zz) < Z:\n",
    "                    yCrossing.append(tcc)\n",
    "            tcmedio.append(np.mean(yCrossing))\n",
    "            tcerro.append(np.std(yCrossing)/math.sqrt(len(2*listasX1)))\n",
    "        tcmedioN=(np.array(tcmedio)/tcmedio[0]).tolist()\n",
    "        tcerroN=(np.array(tcerro)/tcmedio[0]).tolist()\n",
    "        p.plot(concentracao,tcmedioN,tcerroN,symbol=-1,line=[1,1,''],legend='p')\n",
    "        print(tcmedio)\n",
    "\n",
    "    def crossings(listasX1, listasY1, listasX2, listasY2, x0): # chute inicial \n",
    "        self.xCrossing=[]\n",
    "        self.yCrossing=[]\n",
    "        for x1, y1  in zip(listasX1, listasY1[i]):\n",
    "            interp1 = scipy.interpolate.InterpolatedUnivariateSpline(x1, y1)\n",
    "            for x2, y2  in zip(listasX2, listasY2[i]):\n",
    "                interp2 = scipy.interpolate.InterpolatedUnivariateSpline(x2, y2)\n",
    "                x_at_crossing = scipy.optimize.fsolve(lambda x : np.abs(interp1(x) - interp2(x)), x0=x0)\n",
    "                xc=x_at_crossing[0]\n",
    "                yc=interp1(xc)\n",
    "                self.xCrossing.append(xc)\n",
    "                self.yCrossing.append(yc)\n",
    "    def cruzamento(self, x1, y1, x2, y2, x0):\n",
    "                interp1 = scipy.interpolate.InterpolatedUnivariateSpline(x1, y1)\n",
    "                interp2 = scipy.interpolate.InterpolatedUnivariateSpline(x2, y2)\n",
    "                x = scipy.optimize.fsolve(lambda x : np.abs(interp1(x) - interp2(x)), x0=x0)\n",
    "                return x \n",
    "     "
   ]
  },
  {
   "cell_type": "code",
   "execution_count": 46,
   "metadata": {},
   "outputs": [],
   "source": [
    "resultado = Resultado(dados=dados)"
   ]
  },
  {
   "cell_type": "code",
   "execution_count": 47,
   "metadata": {},
   "outputs": [],
   "source": [
    "resultado.plotOrdem(L=10,A=1.7, concentracao=concentracao)"
   ]
  },
  {
   "cell_type": "code",
   "execution_count": 48,
   "metadata": {
    "tags": [
     "outputPrepend",
     "outputPrepend",
     "outputPrepend",
     "outputPrepend",
     "outputPrepend"
    ]
   },
   "outputs": [],
   "source": [
    "resultado.plotDiagrama(L=10, A=1.70, erro=0.05,concentracao=concentracao)"
   ]
  },
  {
   "cell_type": "code",
   "execution_count": 49,
   "metadata": {},
   "outputs": [],
   "source": [
    "resultado.plotDiagramaFiltrado(L=10,A=1.70, Z=5, concentracao=concentracao)"
   ]
  },
  {
   "cell_type": "code",
   "execution_count": 51,
   "metadata": {
    "tags": [
     "outputPrepend"
    ]
   },
   "outputs": [
    {
     "output_type": "stream",
     "name": "stdout",
     "text": "dont know how to plot this with shape (24,)\n[0.0, 0.020999999999999998, 0.025, 0.039999999999999994, 0.05, 0.06000000000000001, 0.07000000000000002, 0.07499999999999998, 0.07999999999999999, 0.09, 0.1, 0.11000000000000001, 0.12000000000000002, 0.12999999999999998, 0.14000000000000004, 0.14999999999999997, 0.15999999999999998, 0.16999999999999998, 0.18, 0.198, 0.2, 0.22000000000000003, 0.29999999999999993, 0.4]\n"
    }
   ],
   "source": [
    "resultado.plotDiagramaMedio(A=1.7,concentracao=concentracao, tamanhos=[10])"
   ]
  },
  {
   "cell_type": "code",
   "execution_count": 31,
   "metadata": {},
   "outputs": [],
   "source": [
    "resultado.plotDiagramaMedio(L=10,A=1.7,concentracao=concentracao)"
   ]
  },
  {
   "cell_type": "code",
   "execution_count": 50,
   "metadata": {},
   "outputs": [],
   "source": [
    "resultado.plot(L=10,A=1.7, concentracao=concentracao)"
   ]
  },
  {
   "cell_type": "code",
   "execution_count": 40,
   "metadata": {},
   "outputs": [],
   "source": [
    "resultado.plotMedia(L=10,A=1.7, concentracao=concentracao)"
   ]
  },
  {
   "cell_type": "code",
   "execution_count": 18,
   "metadata": {},
   "outputs": [],
   "source": [
    "resultado.plotMedia(L=10,A=1.7, concentracao=concentracao)"
   ]
  },
  {
   "cell_type": "code",
   "execution_count": 60,
   "metadata": {},
   "outputs": [],
   "source": [
    "resultado.plotMedia(L=10,A=1.75,y=\"calor\", concentracao=concentracao)"
   ]
  },
  {
   "cell_type": "code",
   "execution_count": 61,
   "metadata": {},
   "outputs": [],
   "source": [
    "resultado.plotMedia(L=10,A=1.75,y=\"cumu\", concentracao=concentracao)"
   ]
  },
  {
   "cell_type": "code",
   "execution_count": 62,
   "metadata": {},
   "outputs": [
    {
     "output_type": "stream",
     "name": "stderr",
     "text": "Exception ignored in: <bound method GracePlot.__del__ of <jscatter.graceplot.GracePlot object at 0x7f0ec99fae48>>\nTraceback (most recent call last):\n  File \"/home/joao/.platformio/penv/lib/python3.6/site-packages/jscatter/graceplot.py\", line 1657, in __del__\n    self.close()\n  File \"/home/joao/.platformio/penv/lib/python3.6/site-packages/jscatter/graceplot.py\", line 1664, in close\n    self.redraw(force=True)\n  File \"/home/joao/.platformio/penv/lib/python3.6/site-packages/jscatter/graceplot.py\", line 2013, in redraw\n    time.sleep(0.25)  # make sure on a forced redraw that the queue is flushed\nKeyboardInterrupt\n"
    }
   ],
   "source": [
    "resultado.plotMedia(A=1.75,y=\"cumu\", concentracao=concentracao, tamanhos=[10 , 15])"
   ]
  },
  {
   "cell_type": "code",
   "execution_count": 20,
   "metadata": {},
   "outputs": [],
   "source": [
    "resultado.plotFiltrados(L=15,A=1.7,  concentracao=concentracao)"
   ]
  },
  {
   "cell_type": "code",
   "execution_count": null,
   "metadata": {},
   "outputs": [],
   "source": [
    "resultado.plotMedia(A=1.7, concentracao=concentracao, tamanhos=[10 , 15, 20])"
   ]
  },
  {
   "cell_type": "code",
   "execution_count": 21,
   "metadata": {},
   "outputs": [
    {
     "output_type": "error",
     "ename": "KeyboardInterrupt",
     "evalue": "",
     "traceback": [
      "\u001b[0;31m---------------------------------------------------------------------------\u001b[0m",
      "\u001b[0;31mKeyboardInterrupt\u001b[0m                         Traceback (most recent call last)",
      "\u001b[0;32m<ipython-input-21-69222b742947>\u001b[0m in \u001b[0;36m<module>\u001b[0;34m\u001b[0m\n\u001b[0;32m----> 1\u001b[0;31m \u001b[0mresultado\u001b[0m\u001b[0;34m.\u001b[0m\u001b[0mplotMedia\u001b[0m\u001b[0;34m(\u001b[0m\u001b[0mA\u001b[0m\u001b[0;34m=\u001b[0m\u001b[0;36m1.7\u001b[0m\u001b[0;34m,\u001b[0m \u001b[0my\u001b[0m\u001b[0;34m=\u001b[0m\u001b[0;34m'calor'\u001b[0m\u001b[0;34m,\u001b[0m\u001b[0mconcentracao\u001b[0m\u001b[0;34m=\u001b[0m\u001b[0mconcentracao\u001b[0m\u001b[0;34m,\u001b[0m \u001b[0mtamanhos\u001b[0m\u001b[0;34m=\u001b[0m\u001b[0;34m[\u001b[0m\u001b[0;36m10\u001b[0m \u001b[0;34m,\u001b[0m \u001b[0;36m15\u001b[0m\u001b[0;34m,\u001b[0m \u001b[0;36m20\u001b[0m\u001b[0;34m]\u001b[0m\u001b[0;34m)\u001b[0m\u001b[0;34m\u001b[0m\u001b[0;34m\u001b[0m\u001b[0m\n\u001b[0m",
      "\u001b[0;32m<ipython-input-14-30228e69a717>\u001b[0m in \u001b[0;36mplotMedia\u001b[0;34m(self, L, A, x, y, **kargs)\u001b[0m\n\u001b[1;32m    160\u001b[0m                         \u001b[0mcont\u001b[0m \u001b[0;34m+=\u001b[0m \u001b[0;36m1\u001b[0m\u001b[0;34m\u001b[0m\u001b[0;34m\u001b[0m\u001b[0m\n\u001b[1;32m    161\u001b[0m                 \u001b[0msomaY\u001b[0m\u001b[0;34m=\u001b[0m \u001b[0msomaY\u001b[0m\u001b[0;34m/\u001b[0m\u001b[0mcont\u001b[0m\u001b[0;34m\u001b[0m\u001b[0;34m\u001b[0m\u001b[0m\n\u001b[0;32m--> 162\u001b[0;31m                 \u001b[0mp\u001b[0m\u001b[0;34m.\u001b[0m\u001b[0mplot\u001b[0m\u001b[0;34m(\u001b[0m\u001b[0mxx\u001b[0m\u001b[0;34m,\u001b[0m \u001b[0msomaY\u001b[0m\u001b[0;34m.\u001b[0m\u001b[0mtolist\u001b[0m\u001b[0;34m(\u001b[0m\u001b[0;34m)\u001b[0m\u001b[0;34m,\u001b[0m \u001b[0msymbol\u001b[0m\u001b[0;34m=\u001b[0m\u001b[0;34m[\u001b[0m\u001b[0;36m0\u001b[0m\u001b[0;34m,\u001b[0m\u001b[0;36m0.3\u001b[0m\u001b[0;34m,\u001b[0m\u001b[0mi\u001b[0m\u001b[0;34m]\u001b[0m\u001b[0;34m,\u001b[0m \u001b[0mline\u001b[0m \u001b[0;34m=\u001b[0m\u001b[0;34m[\u001b[0m\u001b[0;36m1\u001b[0m\u001b[0;34m,\u001b[0m\u001b[0;36m2\u001b[0m\u001b[0;34m,\u001b[0m\u001b[0mi\u001b[0m\u001b[0;34m]\u001b[0m \u001b[0;34m,\u001b[0m\u001b[0mlegend\u001b[0m\u001b[0;34m=\u001b[0m\u001b[0;34m'q='\u001b[0m\u001b[0;34m+\u001b[0m\u001b[0mrepr\u001b[0m\u001b[0;34m(\u001b[0m\u001b[0mq\u001b[0m\u001b[0;34m)\u001b[0m\u001b[0;34m)\u001b[0m\u001b[0;34m\u001b[0m\u001b[0;34m\u001b[0m\u001b[0m\n\u001b[0m\u001b[1;32m    163\u001b[0m \u001b[0;34m\u001b[0m\u001b[0m\n\u001b[1;32m    164\u001b[0m     \u001b[0;32mdef\u001b[0m \u001b[0mplotDiagramaCruzamentoMedia\u001b[0m\u001b[0;34m(\u001b[0m\u001b[0mself\u001b[0m\u001b[0;34m,\u001b[0m\u001b[0mL\u001b[0m\u001b[0;34m=\u001b[0m\u001b[0;36m10\u001b[0m\u001b[0;34m,\u001b[0m \u001b[0mA\u001b[0m\u001b[0;34m=\u001b[0m\u001b[0;36m1.7\u001b[0m\u001b[0;34m,\u001b[0m  \u001b[0mx\u001b[0m\u001b[0;34m=\u001b[0m\u001b[0;34m't'\u001b[0m\u001b[0;34m,\u001b[0m \u001b[0my\u001b[0m\u001b[0;34m=\u001b[0m\u001b[0;34m'sus'\u001b[0m\u001b[0;34m,\u001b[0m \u001b[0;34m**\u001b[0m\u001b[0mkargs\u001b[0m\u001b[0;34m)\u001b[0m\u001b[0;34m:\u001b[0m\u001b[0;34m\u001b[0m\u001b[0;34m\u001b[0m\u001b[0m\n",
      "\u001b[0;32m~/.platformio/penv/lib/python3.6/site-packages/jscatter/graceplot.py\u001b[0m in \u001b[0;36mplot\u001b[0;34m(self, *args, **kwargs)\u001b[0m\n\u001b[1;32m   1727\u001b[0m         \u001b[0msee\u001b[0m \u001b[0mbelow\u001b[0m\u001b[0;34m\u001b[0m\u001b[0;34m\u001b[0m\u001b[0m\n\u001b[1;32m   1728\u001b[0m         \"\"\"\n\u001b[0;32m-> 1729\u001b[0;31m         \u001b[0mself\u001b[0m\u001b[0;34m.\u001b[0m\u001b[0mcurr_graph\u001b[0m\u001b[0;34m.\u001b[0m\u001b[0mplot\u001b[0m\u001b[0;34m(\u001b[0m\u001b[0;34m*\u001b[0m\u001b[0margs\u001b[0m\u001b[0;34m,\u001b[0m \u001b[0;34m**\u001b[0m\u001b[0mkwargs\u001b[0m\u001b[0;34m)\u001b[0m\u001b[0;34m\u001b[0m\u001b[0;34m\u001b[0m\u001b[0m\n\u001b[0m\u001b[1;32m   1730\u001b[0m \u001b[0;34m\u001b[0m\u001b[0m\n\u001b[1;32m   1731\u001b[0m     \u001b[0;34m@\u001b[0m\u001b[0minheritDocstringFrom\u001b[0m\u001b[0;34m(\u001b[0m\u001b[0mGraceGraph\u001b[0m\u001b[0;34m)\u001b[0m\u001b[0;34m\u001b[0m\u001b[0;34m\u001b[0m\u001b[0m\n",
      "\u001b[0;32m~/.platformio/penv/lib/python3.6/site-packages/jscatter/graceplot.py\u001b[0m in \u001b[0;36mplot\u001b[0;34m(self, *datasets, **kwargs)\u001b[0m\n\u001b[1;32m   1270\u001b[0m \u001b[0;34m\u001b[0m\u001b[0m\n\u001b[1;32m   1271\u001b[0m         \u001b[0;32melif\u001b[0m \u001b[0mautoscale\u001b[0m\u001b[0;34m:\u001b[0m\u001b[0;34m\u001b[0m\u001b[0;34m\u001b[0m\u001b[0m\n\u001b[0;32m-> 1272\u001b[0;31m             \u001b[0mself\u001b[0m\u001b[0;34m.\u001b[0m\u001b[0mautoscale\u001b[0m\u001b[0;34m(\u001b[0m\u001b[0;34m)\u001b[0m\u001b[0;34m\u001b[0m\u001b[0;34m\u001b[0m\u001b[0m\n\u001b[0m\u001b[1;32m   1273\u001b[0m \u001b[0;34m\u001b[0m\u001b[0m\n\u001b[1;32m   1274\u001b[0m         \u001b[0;32mif\u001b[0m \u001b[0mredraw\u001b[0m\u001b[0;34m:\u001b[0m\u001b[0;34m\u001b[0m\u001b[0;34m\u001b[0m\u001b[0m\n",
      "\u001b[0;32m~/.platformio/penv/lib/python3.6/site-packages/jscatter/graceplot.py\u001b[0m in \u001b[0;36mautoscale\u001b[0;34m(self, axis)\u001b[0m\n\u001b[1;32m    402\u001b[0m         \u001b[0ms\u001b[0m \u001b[0;34m=\u001b[0m \u001b[0mself\u001b[0m\u001b[0;34m.\u001b[0m\u001b[0m_grace\u001b[0m\u001b[0;34m(\u001b[0m\u001b[0;34m)\u001b[0m  \u001b[0;31m# dereference the weak ref\u001b[0m\u001b[0;34m\u001b[0m\u001b[0;34m\u001b[0m\u001b[0m\n\u001b[1;32m    403\u001b[0m         \u001b[0;32mif\u001b[0m \u001b[0ms\u001b[0m\u001b[0;34m.\u001b[0m\u001b[0mcurr_graph\u001b[0m\u001b[0;34m.\u001b[0m\u001b[0mnSets\u001b[0m \u001b[0;34m>\u001b[0m \u001b[0;36m0\u001b[0m\u001b[0;34m:\u001b[0m\u001b[0;34m\u001b[0m\u001b[0;34m\u001b[0m\u001b[0m\n\u001b[0;32m--> 404\u001b[0;31m             \u001b[0ms\u001b[0m\u001b[0;34m.\u001b[0m\u001b[0mwrite\u001b[0m\u001b[0;34m(\u001b[0m\u001b[0;34m\"with g%d; autoscale %s\"\u001b[0m \u001b[0;34m%\u001b[0m \u001b[0;34m(\u001b[0m\u001b[0mself\u001b[0m\u001b[0;34m.\u001b[0m\u001b[0mgID\u001b[0m\u001b[0;34m,\u001b[0m \u001b[0msuffix\u001b[0m\u001b[0;34m)\u001b[0m\u001b[0;34m)\u001b[0m\u001b[0;34m\u001b[0m\u001b[0;34m\u001b[0m\u001b[0m\n\u001b[0m\u001b[1;32m    405\u001b[0m \u001b[0;34m\u001b[0m\u001b[0m\n\u001b[1;32m    406\u001b[0m     \u001b[0;32mdef\u001b[0m \u001b[0mredraw\u001b[0m\u001b[0;34m(\u001b[0m\u001b[0mself\u001b[0m\u001b[0;34m,\u001b[0m \u001b[0;34m*\u001b[0m\u001b[0margs\u001b[0m\u001b[0;34m,\u001b[0m \u001b[0;34m**\u001b[0m\u001b[0mkwargs\u001b[0m\u001b[0;34m)\u001b[0m\u001b[0;34m:\u001b[0m\u001b[0;34m\u001b[0m\u001b[0;34m\u001b[0m\u001b[0m\n",
      "\u001b[0;32m~/.platformio/penv/lib/python3.6/site-packages/jscatter/graceplot.py\u001b[0m in \u001b[0;36mwrite\u001b[0;34m(self, command)\u001b[0m\n\u001b[1;32m   1840\u001b[0m         \u001b[0;34m\"\"\"Make a graceSession look like a file, and flush after send\"\"\"\u001b[0m\u001b[0;34m\u001b[0m\u001b[0;34m\u001b[0m\u001b[0m\n\u001b[1;32m   1841\u001b[0m         \u001b[0mself\u001b[0m\u001b[0;34m.\u001b[0m\u001b[0m_send\u001b[0m\u001b[0;34m(\u001b[0m\u001b[0mcommand\u001b[0m\u001b[0;34m)\u001b[0m\u001b[0;34m\u001b[0m\u001b[0;34m\u001b[0m\u001b[0m\n\u001b[0;32m-> 1842\u001b[0;31m         \u001b[0mself\u001b[0m\u001b[0;34m.\u001b[0m\u001b[0m_flush\u001b[0m\u001b[0;34m(\u001b[0m\u001b[0;34m)\u001b[0m\u001b[0;34m\u001b[0m\u001b[0;34m\u001b[0m\u001b[0m\n\u001b[0m\u001b[1;32m   1843\u001b[0m \u001b[0;34m\u001b[0m\u001b[0m\n\u001b[1;32m   1844\u001b[0m     \u001b[0;32mdef\u001b[0m \u001b[0mmulti\u001b[0m\u001b[0;34m(\u001b[0m\u001b[0mself\u001b[0m\u001b[0;34m,\u001b[0m \u001b[0mrows\u001b[0m\u001b[0;34m,\u001b[0m \u001b[0mcols\u001b[0m\u001b[0;34m,\u001b[0m \u001b[0moffset\u001b[0m\u001b[0;34m=\u001b[0m\u001b[0;36m0.13\u001b[0m\u001b[0;34m,\u001b[0m \u001b[0mhgap\u001b[0m\u001b[0;34m=\u001b[0m\u001b[0;36m0.1\u001b[0m\u001b[0;34m,\u001b[0m \u001b[0mvgap\u001b[0m\u001b[0;34m=\u001b[0m\u001b[0;36m0.15\u001b[0m\u001b[0;34m)\u001b[0m\u001b[0;34m:\u001b[0m\u001b[0;34m\u001b[0m\u001b[0;34m\u001b[0m\u001b[0m\n",
      "\u001b[0;32m~/.platformio/penv/lib/python3.6/site-packages/jscatter/graceplot.py\u001b[0m in \u001b[0;36m_flush\u001b[0;34m(self)\u001b[0m\n\u001b[1;32m   1687\u001b[0m \u001b[0;34m\u001b[0m\u001b[0m\n\u001b[1;32m   1688\u001b[0m     \u001b[0;32mdef\u001b[0m \u001b[0m_flush\u001b[0m\u001b[0;34m(\u001b[0m\u001b[0mself\u001b[0m\u001b[0;34m)\u001b[0m\u001b[0;34m:\u001b[0m\u001b[0;34m\u001b[0m\u001b[0;34m\u001b[0m\u001b[0m\n\u001b[0;32m-> 1689\u001b[0;31m         \u001b[0mself\u001b[0m\u001b[0;34m.\u001b[0m\u001b[0m_transmit_queue\u001b[0m\u001b[0;34m.\u001b[0m\u001b[0mput\u001b[0m\u001b[0;34m(\u001b[0m\u001b[0;32mNone\u001b[0m\u001b[0;34m)\u001b[0m  \u001b[0;31m# sentinel for a flush\u001b[0m\u001b[0;34m\u001b[0m\u001b[0;34m\u001b[0m\u001b[0m\n\u001b[0m\u001b[1;32m   1690\u001b[0m \u001b[0;34m\u001b[0m\u001b[0m\n\u001b[1;32m   1691\u001b[0m     \u001b[0;32mdef\u001b[0m \u001b[0mfocus\u001b[0m\u001b[0;34m(\u001b[0m\u001b[0mself\u001b[0m\u001b[0;34m,\u001b[0m \u001b[0mgraph_index\u001b[0m\u001b[0;34m=\u001b[0m\u001b[0;32mNone\u001b[0m\u001b[0;34m,\u001b[0m \u001b[0mgrace_graph\u001b[0m\u001b[0;34m=\u001b[0m\u001b[0;32mNone\u001b[0m\u001b[0;34m)\u001b[0m\u001b[0;34m:\u001b[0m\u001b[0;34m\u001b[0m\u001b[0;34m\u001b[0m\u001b[0m\n",
      "\u001b[0;32m/usr/lib/python3.6/queue.py\u001b[0m in \u001b[0;36mput\u001b[0;34m(self, item, block, timeout)\u001b[0m\n\u001b[1;32m    131\u001b[0m                 \u001b[0;32melif\u001b[0m \u001b[0mtimeout\u001b[0m \u001b[0;32mis\u001b[0m \u001b[0;32mNone\u001b[0m\u001b[0;34m:\u001b[0m\u001b[0;34m\u001b[0m\u001b[0;34m\u001b[0m\u001b[0m\n\u001b[1;32m    132\u001b[0m                     \u001b[0;32mwhile\u001b[0m \u001b[0mself\u001b[0m\u001b[0;34m.\u001b[0m\u001b[0m_qsize\u001b[0m\u001b[0;34m(\u001b[0m\u001b[0;34m)\u001b[0m \u001b[0;34m>=\u001b[0m \u001b[0mself\u001b[0m\u001b[0;34m.\u001b[0m\u001b[0mmaxsize\u001b[0m\u001b[0;34m:\u001b[0m\u001b[0;34m\u001b[0m\u001b[0;34m\u001b[0m\u001b[0m\n\u001b[0;32m--> 133\u001b[0;31m                         \u001b[0mself\u001b[0m\u001b[0;34m.\u001b[0m\u001b[0mnot_full\u001b[0m\u001b[0;34m.\u001b[0m\u001b[0mwait\u001b[0m\u001b[0;34m(\u001b[0m\u001b[0;34m)\u001b[0m\u001b[0;34m\u001b[0m\u001b[0;34m\u001b[0m\u001b[0m\n\u001b[0m\u001b[1;32m    134\u001b[0m                 \u001b[0;32melif\u001b[0m \u001b[0mtimeout\u001b[0m \u001b[0;34m<\u001b[0m \u001b[0;36m0\u001b[0m\u001b[0;34m:\u001b[0m\u001b[0;34m\u001b[0m\u001b[0;34m\u001b[0m\u001b[0m\n\u001b[1;32m    135\u001b[0m                     \u001b[0;32mraise\u001b[0m \u001b[0mValueError\u001b[0m\u001b[0;34m(\u001b[0m\u001b[0;34m\"'timeout' must be a non-negative number\"\u001b[0m\u001b[0;34m)\u001b[0m\u001b[0;34m\u001b[0m\u001b[0;34m\u001b[0m\u001b[0m\n",
      "\u001b[0;32m/usr/lib/python3.6/threading.py\u001b[0m in \u001b[0;36mwait\u001b[0;34m(self, timeout)\u001b[0m\n\u001b[1;32m    293\u001b[0m         \u001b[0;32mtry\u001b[0m\u001b[0;34m:\u001b[0m    \u001b[0;31m# restore state no matter what (e.g., KeyboardInterrupt)\u001b[0m\u001b[0;34m\u001b[0m\u001b[0;34m\u001b[0m\u001b[0m\n\u001b[1;32m    294\u001b[0m             \u001b[0;32mif\u001b[0m \u001b[0mtimeout\u001b[0m \u001b[0;32mis\u001b[0m \u001b[0;32mNone\u001b[0m\u001b[0;34m:\u001b[0m\u001b[0;34m\u001b[0m\u001b[0;34m\u001b[0m\u001b[0m\n\u001b[0;32m--> 295\u001b[0;31m                 \u001b[0mwaiter\u001b[0m\u001b[0;34m.\u001b[0m\u001b[0macquire\u001b[0m\u001b[0;34m(\u001b[0m\u001b[0;34m)\u001b[0m\u001b[0;34m\u001b[0m\u001b[0;34m\u001b[0m\u001b[0m\n\u001b[0m\u001b[1;32m    296\u001b[0m                 \u001b[0mgotit\u001b[0m \u001b[0;34m=\u001b[0m \u001b[0;32mTrue\u001b[0m\u001b[0;34m\u001b[0m\u001b[0;34m\u001b[0m\u001b[0m\n\u001b[1;32m    297\u001b[0m             \u001b[0;32melse\u001b[0m\u001b[0;34m:\u001b[0m\u001b[0;34m\u001b[0m\u001b[0;34m\u001b[0m\u001b[0m\n",
      "\u001b[0;31mKeyboardInterrupt\u001b[0m: "
     ]
    }
   ],
   "source": [
    "resultado.plotMedia(A=1.7, y='calor',concentracao=concentracao, tamanhos=[10 , 15, 20])"
   ]
  },
  {
   "cell_type": "code",
   "execution_count": 21,
   "metadata": {},
   "outputs": [
    {
     "output_type": "stream",
     "name": "stdout",
     "text": "[2.0532933261333524, 2.0360111345196157, 2.031748708990801, 2.026797610672242, 2.017903097427581, 2.0113175959904708, 2.0098265895797236, 1.964819006698715, 1.95539090907056, 1.9354007231874149, 1.9351123749854386, 1.916954614858638, 1.888900889933612, 1.6175414050345873, 1.6098405025471387, 1.481702204992998, 1.4099523219588321, 1.4012498950781913, 1.3345044330901858, 1.3125832651198548, 1.2819333950219143, 1.2205435437950443, 1.0934871985570516, 1.0781870503489748, 0.9712269348824886, 0.7752201059285856, 0.48801271792609957, 0.05024018603873124]\n"
    }
   ],
   "source": [
    "resultado.PlotCruzamentos(A=1.7, Z=20 ,concentracao=concentracao, tamanhos=[10 , 15])"
   ]
  },
  {
   "cell_type": "code",
   "execution_count": null,
   "metadata": {},
   "outputs": [],
   "source": [
    "resultado.PlotCruzamentos(A=1.7, Z=20 ,concentracao=concentracao, tamanhos=[10 , 15])"
   ]
  }
 ],
 "metadata": {
  "language_info": {
   "name": "python",
   "codemirror_mode": {
    "name": "ipython",
    "version": 3
   },
   "version": "3.6.9-final"
  },
  "orig_nbformat": 2,
  "file_extension": ".py",
  "mimetype": "text/x-python",
  "name": "python",
  "npconvert_exporter": "python",
  "pygments_lexer": "ipython3",
  "version": 3,
  "kernelspec": {
   "name": "python36964bitb143750314b04b808d831924af3d8c86",
   "display_name": "Python 3.6.9 64-bit"
  }
 },
 "nbformat": 4,
 "nbformat_minor": 2
}