{
 "nbformat": 4,
 "nbformat_minor": 2,
 "metadata": {
  "language_info": {
   "name": "python",
   "codemirror_mode": {
    "name": "ipython",
    "version": 3
   },
   "version": "3.6.9-final"
  },
  "orig_nbformat": 2,
  "file_extension": ".py",
  "mimetype": "text/x-python",
  "name": "python",
  "npconvert_exporter": "python",
  "pygments_lexer": "ipython3",
  "version": 3,
  "kernelspec": {
   "name": "python36964bitb143750314b04b808d831924af3d8c86",
   "display_name": "Python 3.6.9 64-bit"
  }
 },
 "cells": [
  {
   "cell_type": "code",
   "execution_count": 125,
   "metadata": {},
   "outputs": [],
   "source": [
    "import numpy as np "
   ]
  },
  {
   "cell_type": "code",
   "execution_count": 126,
   "metadata": {},
   "outputs": [],
   "source": [
    "from Enviar import Receber"
   ]
  },
  {
   "cell_type": "code",
   "execution_count": 127,
   "metadata": {},
   "outputs": [],
   "source": [
    "import jscatter as js"
   ]
  },
  {
   "cell_type": "code",
   "execution_count": 128,
   "metadata": {},
   "outputs": [],
   "source": [
    "from scipy import stats"
   ]
  },
  {
   "cell_type": "code",
   "execution_count": 129,
   "metadata": {},
   "outputs": [],
   "source": [
    "import math "
   ]
  },
  {
   "cell_type": "code",
   "execution_count": 130,
   "metadata": {},
   "outputs": [],
   "source": [
    "import scipy.interpolate, scipy.optimize"
   ]
  },
  {
   "cell_type": "code",
   "execution_count": 131,
   "metadata": {},
   "outputs": [],
   "source": [
    "import pandas as pd"
   ]
  },
  {
   "cell_type": "code",
   "execution_count": 154,
   "metadata": {},
   "outputs": [],
   "source": [
    "receber=Receber(nomeRef='test12-17-04-2020-A17lim30')\n",
    "receber()\n",
    "dados=receber.dados   "
   ]
  },
  {
   "cell_type": "code",
   "execution_count": 155,
   "metadata": {},
   "outputs": [
    {
     "output_type": "execute_result",
     "data": {
      "text/plain": "dict_keys(['t', 'mag', 'mag2', 'logmag2', 'energia', 'calor', 'sus', 'cumu', 'cumuE', 'tc', 'duracao', 'relaxacaoHistograma', 'mcsHistograma', 'A', 'numeroPontos', 'raio', 'clusterlimite', 'L', 'p', 't0'])"
     },
     "metadata": {},
     "execution_count": 155
    }
   ],
   "source": [
    "dados[0].keys()"
   ]
  },
  {
   "cell_type": "code",
   "execution_count": 156,
   "metadata": {},
   "outputs": [],
   "source": [
    "dataFrame = pd.DataFrame(dados,  columns=dados[0].keys() )#['t', 'mag', 'mag2', 'logmag2', 'energia', 'calor', 'sus', 'cumu', 'cumuE', 'tc', 'duracao', 'L', 'relaxacao', 'mcs', 'relaxacaoHistograma', 'mcsHistograma', 'A', 'numeroPontos', 'sementeAleatoria', 'raio', 'p', 't0', ''])"
   ]
  },
  {
   "cell_type": "code",
   "execution_count": 157,
   "metadata": {},
   "outputs": [
    {
     "output_type": "execute_result",
     "data": {
      "text/plain": "                                                   t  \\\n0  [1.935999366667, 1.9364660333336665, 1.9369327...   \n1  [1.9547516, 1.9552182666666666, 1.955684933333...   \n2  [1.9647880333330001, 1.9652546999996667, 1.965...   \n3  [1.9460442999999998, 1.9465109666666665, 1.946...   \n4  [1.9935596, 1.9940262666666666, 1.994492933333...   \n\n                                                 mag  \\\n0  [0.2865519616254053, 0.2860716107777238, 0.285...   \n1  [0.2932647594742159, 0.29274794736415677, 0.29...   \n2  [0.3000870980002024, 0.2995500963442222, 0.299...   \n3  [0.289431158930344, 0.28887510303302016, 0.288...   \n4  [0.3090269940287524, 0.3084347896346192, 0.307...   \n\n                                                mag2  \\\n0  [168.37887983116596, 167.85017150864124, 167.3...   \n1  [176.28317833405046, 175.69712756502483, 175.1...   \n2  [184.35638687132092, 183.73460811806936, 183.1...   \n3  [172.05777002425924, 171.42924429819126, 170.8...   \n4  [195.66468558928514, 194.9524433165819, 194.24...   \n\n                                             logmag2  \\\n0  [12.727119136805442, 12.723974204764692, 12.72...   \n1  [12.772994129385383, 12.769664106081432, 12.76...   \n2  [12.817773228977787, 12.814394828782676, 12.81...   \n3  [12.74873275219715, 12.74507307132794, 12.7414...   \n4  [12.877304865894178, 12.873658107934377, 12.87...   \n\n                                             energia  \\\n0  [-2516.0011675758547, -2514.3073918883447, -25...   \n1  [-2523.4542724161597, -2521.6072213362927, -25...   \n2  [-2542.6961625151957, -2540.769989720145, -253...   \n3  [-2509.993285444492, -2508.063779507492, -2506...   \n4  [-2518.350757175434, -2516.253754496396, -2514...   \n\n                                               calor  \\\n0  [7253471.4473413015, 7264569.748669335, 727545...   \n1  [7918149.873770925, 7913763.522130591, 7909654...   \n2  [8254637.130817209, 8255398.462831574, 8256059...   \n3  [8275720.700060967, 8262917.66432174, 8250213....   \n4  [8988655.911419854, 8985628.568873562, 8982459...   \n\n                                                 sus  \\\n0  [2.1460887229438215, 2.156628854227175, 2.1671...   \n1  [2.1868456509313408, 2.1963819929382717, 2.205...   \n2  [2.1640268704925174, 2.1748263359474396, 2.185...   \n3  [2.321107749055429, 2.3280598317282615, 2.3350...   \n4  [2.3422021154481776, 2.35122499690827, 2.36028...   \n\n                                                cumu  \\\n0  [0.6378558561669195, 0.6376277967317805, 0.637...   \n1  [0.6382447535807521, 0.638033576505225, 0.6378...   \n2  [0.6395944863808309, 0.6393712742820614, 0.639...   \n3  [0.635366382722097, 0.6351710187942842, 0.6349...   \n4  [0.6381301979487048, 0.6379286160730036, 0.637...   \n\n                                               cumuE        tc     duracao  \\\n0  [0.6638313630694082, 0.6638215846724719, 0.663...  2.008333  619.026133   \n1  [0.6635090969689653, 0.6635050967542038, 0.663...  2.027085  623.473150   \n2  [0.6633991159273078, 0.6633922009010964, 0.663...  2.037588  629.296817   \n3  [0.6633510063615096, 0.6633495333591746, 0.663...  2.018844  635.296409   \n4  [0.6629292413299643, 0.6629223345059052, 0.662...  2.065893  643.521908   \n\n   relaxacaoHistograma  mcsHistograma    A  numeroPontos  raio  clusterlimite  \\\n0               500000        1000000  1.7           300  0.07             30   \n1               500000        1000000  1.7           300  0.07             30   \n2               500000        1000000  1.7           300  0.07             30   \n3               500000        1000000  1.7           300  0.07             30   \n4               500000        1000000  1.7           300  0.07             30   \n\n    L     p        t0  \n0  10  0.15  2.005999  \n1  10  0.13  2.024752  \n2  10  0.12  2.034788  \n3  10  0.14  2.016044  \n4  10  0.08  2.063560  ",
      "text/html": "<div>\n<style scoped>\n    .dataframe tbody tr th:only-of-type {\n        vertical-align: middle;\n    }\n\n    .dataframe tbody tr th {\n        vertical-align: top;\n    }\n\n    .dataframe thead th {\n        text-align: right;\n    }\n</style>\n<table border=\"1\" class=\"dataframe\">\n  <thead>\n    <tr style=\"text-align: right;\">\n      <th></th>\n      <th>t</th>\n      <th>mag</th>\n      <th>mag2</th>\n      <th>logmag2</th>\n      <th>energia</th>\n      <th>calor</th>\n      <th>sus</th>\n      <th>cumu</th>\n      <th>cumuE</th>\n      <th>tc</th>\n      <th>duracao</th>\n      <th>relaxacaoHistograma</th>\n      <th>mcsHistograma</th>\n      <th>A</th>\n      <th>numeroPontos</th>\n      <th>raio</th>\n      <th>clusterlimite</th>\n      <th>L</th>\n      <th>p</th>\n      <th>t0</th>\n    </tr>\n  </thead>\n  <tbody>\n    <tr>\n      <th>0</th>\n      <td>[1.935999366667, 1.9364660333336665, 1.9369327...</td>\n      <td>[0.2865519616254053, 0.2860716107777238, 0.285...</td>\n      <td>[168.37887983116596, 167.85017150864124, 167.3...</td>\n      <td>[12.727119136805442, 12.723974204764692, 12.72...</td>\n      <td>[-2516.0011675758547, -2514.3073918883447, -25...</td>\n      <td>[7253471.4473413015, 7264569.748669335, 727545...</td>\n      <td>[2.1460887229438215, 2.156628854227175, 2.1671...</td>\n      <td>[0.6378558561669195, 0.6376277967317805, 0.637...</td>\n      <td>[0.6638313630694082, 0.6638215846724719, 0.663...</td>\n      <td>2.008333</td>\n      <td>619.026133</td>\n      <td>500000</td>\n      <td>1000000</td>\n      <td>1.7</td>\n      <td>300</td>\n      <td>0.07</td>\n      <td>30</td>\n      <td>10</td>\n      <td>0.15</td>\n      <td>2.005999</td>\n    </tr>\n    <tr>\n      <th>1</th>\n      <td>[1.9547516, 1.9552182666666666, 1.955684933333...</td>\n      <td>[0.2932647594742159, 0.29274794736415677, 0.29...</td>\n      <td>[176.28317833405046, 175.69712756502483, 175.1...</td>\n      <td>[12.772994129385383, 12.769664106081432, 12.76...</td>\n      <td>[-2523.4542724161597, -2521.6072213362927, -25...</td>\n      <td>[7918149.873770925, 7913763.522130591, 7909654...</td>\n      <td>[2.1868456509313408, 2.1963819929382717, 2.205...</td>\n      <td>[0.6382447535807521, 0.638033576505225, 0.6378...</td>\n      <td>[0.6635090969689653, 0.6635050967542038, 0.663...</td>\n      <td>2.027085</td>\n      <td>623.473150</td>\n      <td>500000</td>\n      <td>1000000</td>\n      <td>1.7</td>\n      <td>300</td>\n      <td>0.07</td>\n      <td>30</td>\n      <td>10</td>\n      <td>0.13</td>\n      <td>2.024752</td>\n    </tr>\n    <tr>\n      <th>2</th>\n      <td>[1.9647880333330001, 1.9652546999996667, 1.965...</td>\n      <td>[0.3000870980002024, 0.2995500963442222, 0.299...</td>\n      <td>[184.35638687132092, 183.73460811806936, 183.1...</td>\n      <td>[12.817773228977787, 12.814394828782676, 12.81...</td>\n      <td>[-2542.6961625151957, -2540.769989720145, -253...</td>\n      <td>[8254637.130817209, 8255398.462831574, 8256059...</td>\n      <td>[2.1640268704925174, 2.1748263359474396, 2.185...</td>\n      <td>[0.6395944863808309, 0.6393712742820614, 0.639...</td>\n      <td>[0.6633991159273078, 0.6633922009010964, 0.663...</td>\n      <td>2.037588</td>\n      <td>629.296817</td>\n      <td>500000</td>\n      <td>1000000</td>\n      <td>1.7</td>\n      <td>300</td>\n      <td>0.07</td>\n      <td>30</td>\n      <td>10</td>\n      <td>0.12</td>\n      <td>2.034788</td>\n    </tr>\n    <tr>\n      <th>3</th>\n      <td>[1.9460442999999998, 1.9465109666666665, 1.946...</td>\n      <td>[0.289431158930344, 0.28887510303302016, 0.288...</td>\n      <td>[172.05777002425924, 171.42924429819126, 170.8...</td>\n      <td>[12.74873275219715, 12.74507307132794, 12.7414...</td>\n      <td>[-2509.993285444492, -2508.063779507492, -2506...</td>\n      <td>[8275720.700060967, 8262917.66432174, 8250213....</td>\n      <td>[2.321107749055429, 2.3280598317282615, 2.3350...</td>\n      <td>[0.635366382722097, 0.6351710187942842, 0.6349...</td>\n      <td>[0.6633510063615096, 0.6633495333591746, 0.663...</td>\n      <td>2.018844</td>\n      <td>635.296409</td>\n      <td>500000</td>\n      <td>1000000</td>\n      <td>1.7</td>\n      <td>300</td>\n      <td>0.07</td>\n      <td>30</td>\n      <td>10</td>\n      <td>0.14</td>\n      <td>2.016044</td>\n    </tr>\n    <tr>\n      <th>4</th>\n      <td>[1.9935596, 1.9940262666666666, 1.994492933333...</td>\n      <td>[0.3090269940287524, 0.3084347896346192, 0.307...</td>\n      <td>[195.66468558928514, 194.9524433165819, 194.24...</td>\n      <td>[12.877304865894178, 12.873658107934377, 12.87...</td>\n      <td>[-2518.350757175434, -2516.253754496396, -2514...</td>\n      <td>[8988655.911419854, 8985628.568873562, 8982459...</td>\n      <td>[2.3422021154481776, 2.35122499690827, 2.36028...</td>\n      <td>[0.6381301979487048, 0.6379286160730036, 0.637...</td>\n      <td>[0.6629292413299643, 0.6629223345059052, 0.662...</td>\n      <td>2.065893</td>\n      <td>643.521908</td>\n      <td>500000</td>\n      <td>1000000</td>\n      <td>1.7</td>\n      <td>300</td>\n      <td>0.07</td>\n      <td>30</td>\n      <td>10</td>\n      <td>0.08</td>\n      <td>2.063560</td>\n    </tr>\n  </tbody>\n</table>\n</div>"
     },
     "metadata": {},
     "execution_count": 157
    }
   ],
   "source": [
    "dataFrame.head()"
   ]
  },
  {
   "cell_type": "code",
   "execution_count": 158,
   "metadata": {},
   "outputs": [
    {
     "output_type": "execute_result",
     "data": {
      "text/plain": "array([10, 15, 20])"
     },
     "metadata": {},
     "execution_count": 158
    }
   ],
   "source": [
    "dataFrame['L'].unique()"
   ]
  },
  {
   "cell_type": "code",
   "execution_count": 137,
   "metadata": {},
   "outputs": [
    {
     "output_type": "stream",
     "name": "stdout",
     "text": "0.0 dias, 0.0 horas, 23.0 minutos e 5 segundos.\n"
    }
   ],
   "source": [
    "segundos=dataFrame[\"duracao\"].mean()\n",
    "dias = segundos // 86400\n",
    "segundos_rest = segundos % 86400\n",
    "horas = segundos_rest // 3600\n",
    "segundos_rest = segundos_rest % 3600\n",
    "minutos = segundos_rest // 60\n",
    "segundos_rest = int(segundos_rest % 60)\n",
    "\n",
    "print(dias,\"dias,\",horas,\"horas,\",minutos,\"minutos e\",segundos_rest,\"segundos.\")"
   ]
  },
  {
   "cell_type": "code",
   "execution_count": 148,
   "metadata": {},
   "outputs": [],
   "source": [
    "concentracao =[0, 0.021, 0.025, 0.04, 0.05,  0.06, 0.07,  0.075, 0.08, 0.09,  0.1,  0.11, 0.12,0.13, 0.14, 0.15, 0.16, 0.17, 0.18, 0.198, 0.2, 0.22]"
   ]
  },
  {
   "cell_type": "code",
   "execution_count": 149,
   "metadata": {},
   "outputs": [],
   "source": [
    "experimental=[1, 0.9990413650961, 0.9980827301922, 0.9952068254805, 0.9923309207688, 0.9894550160571, 0.9865791113454, 0.9865791113454, 0.9846618415377, 0.9808273019221, 0.9760341274026, 0.9731582226909, 0.9683650481714, 0.9635718736519, 0.9568614293246, 0.9501509849974, 0.9434405406701, 0.9338541916311, 0.9271437473038, 0.9022192398025, 0.8983847001869, 0.8667497483583 ]"
   ]
  },
  {
   "cell_type": "code",
   "execution_count": 153,
   "metadata": {},
   "outputs": [],
   "source": [
    "p=js.grace()\n",
    "p.yaxis(label='tc',charsize=1.50)\n",
    "p.xaxis(label='q',charsize=1.50)\n",
    "x=[]\n",
    "y=[]\n",
    "D=dataFrame.query('p ==0 & L==20')['tc'].mean()   \n",
    "for q in concentracao: #dataFrame['p'].unique().tolist(): \n",
    "    y.append(dataFrame.query('p ==' + str(q) +'& L==20')['tc'].mean()/D)\n",
    "    x.append(q)\n",
    "p.plot(x,y,symbol=-1,line=[1,1,''],legend='Q=$q')\n",
    "x=[]\n",
    "y=[]\n",
    "D=dataFrame.query('p ==0 & L==15')['tc'].mean()   \n",
    "for q in concentracao: #dataFrame['p'].unique().tolist(): \n",
    "    y.append(dataFrame.query('p ==' + str(q) +'& L==15')['tc'].mean()/D)\n",
    "    x.append(q)\n",
    "p.plot(x,y,symbol=-1,line=[1,1,''],legend='Q=$q')\n",
    "p.plot(x,experimental,symbol=-1,line=[1,1,''],legend='Q=$q')"
   ]
  },
  {
   "cell_type": "code",
   "execution_count": 143,
   "metadata": {},
   "outputs": [
    {
     "output_type": "stream",
     "name": "stdout",
     "text": "[2.0759666666665653, 2.0727469333332262, 2.0719962333332256, 2.066594499999892, 2.0604619333332255, 2.0582692999998846, 2.0529498333332183, 2.0500257933332184, 2.0470862666665512, 2.0398226999998847, 2.0320566666665516, 2.0237158666665516, 2.0139280333328857, 2.004451599999885, 1.9916842999998838, 1.9812660333335503, 1.95920796666655, 1.9449566000002172, 1.9264845333328833, 1.8731786666665537, 1.8718370999995522, 1.7942138666665581]\n"
    }
   ],
   "source": [
    "y=[]\n",
    "for q in concentracao: #dataFrame['p'].unique().tolist(): \n",
    "    y.append(dataFrame.query('p ==' + str(q) +'& L==15')['tc'].mean())\n",
    "print(y)"
   ]
  },
  {
   "cell_type": "code",
   "execution_count": 165,
   "metadata": {},
   "outputs": [
    {
     "output_type": "execute_result",
     "data": {
      "text/plain": "t                      7\nmag                    7\nmag2                   7\nlogmag2                7\nenergia                7\ncalor                  7\nsus                    7\ncumu                   7\ncumuE                  7\ntc                     7\nduracao                7\nrelaxacaoHistograma    7\nmcsHistograma          7\nA                      7\nnumeroPontos           7\nraio                   7\nclusterlimite          7\nL                      7\np                      7\nt0                     7\ndtype: int64"
     },
     "metadata": {},
     "execution_count": 165
    }
   ],
   "source": [
    "dataFrame.query(\"L==20 & p==0.22\").count()"
   ]
  },
  {
   "cell_type": "code",
   "execution_count": null,
   "metadata": {},
   "outputs": [],
   "source": []
  }
 ]
}