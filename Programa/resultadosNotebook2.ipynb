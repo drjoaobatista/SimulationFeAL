{
 "nbformat": 4,
 "nbformat_minor": 2,
 "metadata": {
  "language_info": {
   "name": "python",
   "codemirror_mode": {
    "name": "ipython",
    "version": 3
   },
   "version": "3.6.9-final"
  },
  "orig_nbformat": 2,
  "file_extension": ".py",
  "mimetype": "text/x-python",
  "name": "python",
  "npconvert_exporter": "python",
  "pygments_lexer": "ipython3",
  "version": 3,
  "kernelspec": {
   "name": "python36964bitb143750314b04b808d831924af3d8c86",
   "display_name": "Python 3.6.9 64-bit"
  }
 },
 "cells": [
  {
   "cell_type": "code",
   "execution_count": 16,
   "metadata": {},
   "outputs": [],
   "source": [
    "import numpy as np "
   ]
  },
  {
   "cell_type": "code",
   "execution_count": 17,
   "metadata": {},
   "outputs": [],
   "source": [
    "from Enviar import Receber"
   ]
  },
  {
   "cell_type": "code",
   "execution_count": 18,
   "metadata": {},
   "outputs": [],
   "source": [
    "import jscatter as js"
   ]
  },
  {
   "cell_type": "code",
   "execution_count": 19,
   "metadata": {},
   "outputs": [],
   "source": [
    "from scipy import stats"
   ]
  },
  {
   "cell_type": "code",
   "execution_count": 20,
   "metadata": {},
   "outputs": [],
   "source": [
    "import math "
   ]
  },
  {
   "cell_type": "code",
   "execution_count": 21,
   "metadata": {},
   "outputs": [],
   "source": [
    "import scipy.interpolate, scipy.optimize"
   ]
  },
  {
   "cell_type": "code",
   "execution_count": 22,
   "metadata": {},
   "outputs": [],
   "source": [
    "import pandas as pd"
   ]
  },
  {
   "cell_type": "code",
   "execution_count": 23,
   "metadata": {},
   "outputs": [],
   "source": [
    "receber=Receber(nomeRef=\"01-04-2020-17-muitas-amostras\")\n",
    "receber()\n",
    "dados=receber.dados   "
   ]
  },
  {
   "cell_type": "code",
   "execution_count": 24,
   "metadata": {},
   "outputs": [],
   "source": [
    "dataFrame = pd.DataFrame(dados,  columns=['t', 'mag', 'mag2', 'logmag2', 'energia', 'calor', 'sus', 'cumo', 'cumuE', 'tc', 'duracao', 'L', 'relaxacao', 'mcs', 'relaxacaoHistograma', 'mcsHistograma', 'A', 'numeroPontos', 'sementeAleatoria', 'raio', 'p', 't0'])"
   ]
  },
  {
   "cell_type": "code",
   "execution_count": 25,
   "metadata": {},
   "outputs": [
    {
     "output_type": "execute_result",
     "data": {
      "text/plain": "                                                   t  \\\n0  [1.7848823999999999, 1.7862824, 1.7876824, 1.7...   \n1  [1.7848823999999999, 1.7862824, 1.7876824, 1.7...   \n2  [1.7848823999999999, 1.7862824, 1.7876824, 1.7...   \n3  [1.7848823999999999, 1.7862824, 1.7876824, 1.7...   \n4  [1.7848823999999999, 1.7862824, 1.7876824, 1.7...   \n\n                                                 mag  \\\n0  [0.3114260025752372, 0.31029852609426906, 0.30...   \n1  [0.31666606942408543, 0.31555026515566476, 0.3...   \n2  [0.31252447483455353, 0.3114377496695157, 0.31...   \n3  [0.31666606942408543, 0.31555026515566476, 0.3...   \n4  [0.3061257310917548, 0.30496280535844394, 0.30...   \n\n                                                mag2  \\\n0  [196.56214341929217, 195.19525913218013, 193.8...   \n1  [202.96929830746842, 201.5863572096459, 200.20...   \n2  [197.75670825027518, 196.43446022132312, 195.1...   \n3  [202.96929830746842, 201.5863572096459, 200.20...   \n4  [190.08584459981176, 188.7000323520365, 187.31...   \n\n                                             logmag2  \\\n0  [12.881881092352105, 12.874902845993452, 12.86...   \n1  [12.91395718728128, 12.907120320878203, 12.900...   \n2  [12.887939988498296, 12.881231299446624, 12.87...   \n3  [12.91395718728128, 12.907120320878203, 12.900...   \n4  [12.84837824334872, 12.841061083363506, 12.833...   \n\n                                             energia  \\\n0  [-2606.0998831757706, -2601.723705095752, -259...   \n1  [-2636.894086204744, -2632.3335967227426, -262...   \n2  [-2607.7527956141325, -2603.3891015968284, -25...   \n3  [-2636.894086204744, -2632.3335967227426, -262...   \n4  [-2578.5175477329035, -2573.9881153412125, -25...   \n\n                                               calor  \\\n0  [6227127.521889052, 6275767.648972904, 6321586...   \n1  [6521499.753155281, 6508785.677700759, 6497933...   \n2  [6217474.218598981, 6249963.957248812, 6280921...   \n3  [6521499.753155281, 6508785.677700759, 6497933...   \n4  [6464633.4566218415, 6476343.140902941, 648658...   \n\n                                                 sus  \\\n0  [1.4509825741510285, 1.4694812755410906, 1.488...   \n1  [1.352749771340139, 1.367318812537843, 1.38194...   \n2  [1.3522535204830466, 1.3701732620213236, 1.388...   \n3  [1.352749771340139, 1.367318812537843, 1.38194...   \n4  [1.4902483922128642, 1.5089478840815862, 1.527...   \n\n                                                cumo  \\\n0  [0.6504644487338852, 0.6501457503513461, 0.649...   \n1  [0.6519364836402719, 0.6516752830205228, 0.651...   \n2  [0.6516395466904943, 0.6513427821168598, 0.651...   \n3  [0.6519364836402719, 0.6516752830205228, 0.651...   \n4  [0.6496058215110769, 0.6492638753627535, 0.648...   \n\n                                               cumuE        tc  ...  \\\n0  [0.6647400602605709, 0.664714640692168, 0.6646...  1.915082  ...   \n1  [0.6646781092552017, 0.6646724828060331, 0.664...  1.903882  ...   \n2  [0.6647408539155772, 0.6647208510997034, 0.664...  1.902482  ...   \n3  [0.6646781092552017, 0.6646724828060331, 0.664...  1.903882  ...   \n4  [0.6646128582023707, 0.664598246532246, 0.6645...  1.898282  ...   \n\n   relaxacao  mcs  relaxacaoHistograma  mcsHistograma    A  numeroPontos  \\\n0        NaN  NaN               500000         500000  1.7           100   \n1        NaN  NaN               500000         500000  1.7           100   \n2        NaN  NaN               500000         500000  1.7           100   \n3        NaN  NaN               500000         500000  1.7           100   \n4        NaN  NaN               500000         500000  1.7           100   \n\n   sementeAleatoria  raio     p        t0  \n0               NaN  0.07  0.22  1.854882  \n1               NaN  0.07  0.22  1.854882  \n2               NaN  0.07  0.22  1.854882  \n3               NaN  0.07  0.22  1.854882  \n4               NaN  0.07  0.22  1.854882  \n\n[5 rows x 22 columns]",
      "text/html": "<div>\n<style scoped>\n    .dataframe tbody tr th:only-of-type {\n        vertical-align: middle;\n    }\n\n    .dataframe tbody tr th {\n        vertical-align: top;\n    }\n\n    .dataframe thead th {\n        text-align: right;\n    }\n</style>\n<table border=\"1\" class=\"dataframe\">\n  <thead>\n    <tr style=\"text-align: right;\">\n      <th></th>\n      <th>t</th>\n      <th>mag</th>\n      <th>mag2</th>\n      <th>logmag2</th>\n      <th>energia</th>\n      <th>calor</th>\n      <th>sus</th>\n      <th>cumo</th>\n      <th>cumuE</th>\n      <th>tc</th>\n      <th>...</th>\n      <th>relaxacao</th>\n      <th>mcs</th>\n      <th>relaxacaoHistograma</th>\n      <th>mcsHistograma</th>\n      <th>A</th>\n      <th>numeroPontos</th>\n      <th>sementeAleatoria</th>\n      <th>raio</th>\n      <th>p</th>\n      <th>t0</th>\n    </tr>\n  </thead>\n  <tbody>\n    <tr>\n      <th>0</th>\n      <td>[1.7848823999999999, 1.7862824, 1.7876824, 1.7...</td>\n      <td>[0.3114260025752372, 0.31029852609426906, 0.30...</td>\n      <td>[196.56214341929217, 195.19525913218013, 193.8...</td>\n      <td>[12.881881092352105, 12.874902845993452, 12.86...</td>\n      <td>[-2606.0998831757706, -2601.723705095752, -259...</td>\n      <td>[6227127.521889052, 6275767.648972904, 6321586...</td>\n      <td>[1.4509825741510285, 1.4694812755410906, 1.488...</td>\n      <td>[0.6504644487338852, 0.6501457503513461, 0.649...</td>\n      <td>[0.6647400602605709, 0.664714640692168, 0.6646...</td>\n      <td>1.915082</td>\n      <td>...</td>\n      <td>NaN</td>\n      <td>NaN</td>\n      <td>500000</td>\n      <td>500000</td>\n      <td>1.7</td>\n      <td>100</td>\n      <td>NaN</td>\n      <td>0.07</td>\n      <td>0.22</td>\n      <td>1.854882</td>\n    </tr>\n    <tr>\n      <th>1</th>\n      <td>[1.7848823999999999, 1.7862824, 1.7876824, 1.7...</td>\n      <td>[0.31666606942408543, 0.31555026515566476, 0.3...</td>\n      <td>[202.96929830746842, 201.5863572096459, 200.20...</td>\n      <td>[12.91395718728128, 12.907120320878203, 12.900...</td>\n      <td>[-2636.894086204744, -2632.3335967227426, -262...</td>\n      <td>[6521499.753155281, 6508785.677700759, 6497933...</td>\n      <td>[1.352749771340139, 1.367318812537843, 1.38194...</td>\n      <td>[0.6519364836402719, 0.6516752830205228, 0.651...</td>\n      <td>[0.6646781092552017, 0.6646724828060331, 0.664...</td>\n      <td>1.903882</td>\n      <td>...</td>\n      <td>NaN</td>\n      <td>NaN</td>\n      <td>500000</td>\n      <td>500000</td>\n      <td>1.7</td>\n      <td>100</td>\n      <td>NaN</td>\n      <td>0.07</td>\n      <td>0.22</td>\n      <td>1.854882</td>\n    </tr>\n    <tr>\n      <th>2</th>\n      <td>[1.7848823999999999, 1.7862824, 1.7876824, 1.7...</td>\n      <td>[0.31252447483455353, 0.3114377496695157, 0.31...</td>\n      <td>[197.75670825027518, 196.43446022132312, 195.1...</td>\n      <td>[12.887939988498296, 12.881231299446624, 12.87...</td>\n      <td>[-2607.7527956141325, -2603.3891015968284, -25...</td>\n      <td>[6217474.218598981, 6249963.957248812, 6280921...</td>\n      <td>[1.3522535204830466, 1.3701732620213236, 1.388...</td>\n      <td>[0.6516395466904943, 0.6513427821168598, 0.651...</td>\n      <td>[0.6647408539155772, 0.6647208510997034, 0.664...</td>\n      <td>1.902482</td>\n      <td>...</td>\n      <td>NaN</td>\n      <td>NaN</td>\n      <td>500000</td>\n      <td>500000</td>\n      <td>1.7</td>\n      <td>100</td>\n      <td>NaN</td>\n      <td>0.07</td>\n      <td>0.22</td>\n      <td>1.854882</td>\n    </tr>\n    <tr>\n      <th>3</th>\n      <td>[1.7848823999999999, 1.7862824, 1.7876824, 1.7...</td>\n      <td>[0.31666606942408543, 0.31555026515566476, 0.3...</td>\n      <td>[202.96929830746842, 201.5863572096459, 200.20...</td>\n      <td>[12.91395718728128, 12.907120320878203, 12.900...</td>\n      <td>[-2636.894086204744, -2632.3335967227426, -262...</td>\n      <td>[6521499.753155281, 6508785.677700759, 6497933...</td>\n      <td>[1.352749771340139, 1.367318812537843, 1.38194...</td>\n      <td>[0.6519364836402719, 0.6516752830205228, 0.651...</td>\n      <td>[0.6646781092552017, 0.6646724828060331, 0.664...</td>\n      <td>1.903882</td>\n      <td>...</td>\n      <td>NaN</td>\n      <td>NaN</td>\n      <td>500000</td>\n      <td>500000</td>\n      <td>1.7</td>\n      <td>100</td>\n      <td>NaN</td>\n      <td>0.07</td>\n      <td>0.22</td>\n      <td>1.854882</td>\n    </tr>\n    <tr>\n      <th>4</th>\n      <td>[1.7848823999999999, 1.7862824, 1.7876824, 1.7...</td>\n      <td>[0.3061257310917548, 0.30496280535844394, 0.30...</td>\n      <td>[190.08584459981176, 188.7000323520365, 187.31...</td>\n      <td>[12.84837824334872, 12.841061083363506, 12.833...</td>\n      <td>[-2578.5175477329035, -2573.9881153412125, -25...</td>\n      <td>[6464633.4566218415, 6476343.140902941, 648658...</td>\n      <td>[1.4902483922128642, 1.5089478840815862, 1.527...</td>\n      <td>[0.6496058215110769, 0.6492638753627535, 0.648...</td>\n      <td>[0.6646128582023707, 0.664598246532246, 0.6645...</td>\n      <td>1.898282</td>\n      <td>...</td>\n      <td>NaN</td>\n      <td>NaN</td>\n      <td>500000</td>\n      <td>500000</td>\n      <td>1.7</td>\n      <td>100</td>\n      <td>NaN</td>\n      <td>0.07</td>\n      <td>0.22</td>\n      <td>1.854882</td>\n    </tr>\n  </tbody>\n</table>\n<p>5 rows × 22 columns</p>\n</div>"
     },
     "metadata": {},
     "execution_count": 25
    }
   ],
   "source": [
    "dataFrame.head()"
   ]
  },
  {
   "cell_type": "code",
   "execution_count": 26,
   "metadata": {},
   "outputs": [
    {
     "output_type": "execute_result",
     "data": {
      "text/plain": "count    135.000000\nmean      15.000000\nstd        4.319342\nmin       10.000000\n25%       10.000000\n50%       15.000000\n75%       20.000000\nmax       20.000000\nName: L, dtype: float64"
     },
     "metadata": {},
     "execution_count": 26
    }
   ],
   "source": [
    "dataFrame[\"L\"].describe()"
   ]
  },
  {
   "cell_type": "code",
   "execution_count": 13,
   "metadata": {},
   "outputs": [
    {
     "output_type": "stream",
     "name": "stdout",
     "text": "0.0 dias, 0.0 horas, 35.0 minutos e 43 segundos.\n"
    }
   ],
   "source": [
    "segundos=dataFrame[\"duracao\"].mean()\n",
    "dias = segundos // 86400\n",
    "segundos_rest = segundos % 86400\n",
    "horas = segundos_rest // 3600\n",
    "segundos_rest = segundos_rest % 3600\n",
    "minutos = segundos_rest // 60\n",
    "segundos_rest = int(segundos_rest % 60)\n",
    "\n",
    "print(dias,\"dias,\",horas,\"horas,\",minutos,\"minutos e\",segundos_rest,\"segundos.\")"
   ]
  },
  {
   "cell_type": "code",
   "execution_count": 14,
   "metadata": {},
   "outputs": [
    {
     "output_type": "execute_result",
     "data": {
      "text/plain": "[10, 15, 20]"
     },
     "metadata": {},
     "execution_count": 14
    }
   ],
   "source": [
    "dataFrame[\"L\"].unique().tolist()"
   ]
  },
  {
   "cell_type": "code",
   "execution_count": null,
   "metadata": {},
   "outputs": [],
   "source": []
  }
 ]
}