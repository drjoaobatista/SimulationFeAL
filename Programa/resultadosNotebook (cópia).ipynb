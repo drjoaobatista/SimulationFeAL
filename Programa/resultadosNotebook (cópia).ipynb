{
 "nbformat": 4,
 "nbformat_minor": 2,
 "metadata": {
  "language_info": {
   "name": "python",
   "codemirror_mode": {
    "name": "ipython",
    "version": 3
   },
   "version": "3.6.9-final"
  },
  "orig_nbformat": 2,
  "file_extension": ".py",
  "mimetype": "text/x-python",
  "name": "python",
  "npconvert_exporter": "python",
  "pygments_lexer": "ipython3",
  "version": 3,
  "kernelspec": {
   "name": "python36964bitb143750314b04b808d831924af3d8c86",
   "display_name": "Python 3.6.9 64-bit"
  }
 },
 "cells": [
  {
   "cell_type": "code",
   "execution_count": 1,
   "metadata": {},
   "outputs": [],
   "source": [
    "import numpy as np "
   ]
  },
  {
   "cell_type": "code",
   "execution_count": 2,
   "metadata": {},
   "outputs": [],
   "source": [
    "from Enviar import Receber"
   ]
  },
  {
   "cell_type": "code",
   "execution_count": 3,
   "metadata": {},
   "outputs": [],
   "source": [
    "import jscatter as js"
   ]
  },
  {
   "cell_type": "code",
   "execution_count": 4,
   "metadata": {},
   "outputs": [],
   "source": [
    "from scipy import stats"
   ]
  },
  {
   "cell_type": "code",
   "execution_count": 5,
   "metadata": {},
   "outputs": [],
   "source": [
    "import math "
   ]
  },
  {
   "cell_type": "code",
   "execution_count": 6,
   "metadata": {},
   "outputs": [],
   "source": [
    "import scipy.interpolate, scipy.optimize"
   ]
  },
  {
   "cell_type": "code",
   "execution_count": 70,
   "metadata": {},
   "outputs": [],
   "source": [
    "receber=Receber(nomeRef='29-3-2020-17-15cruzamento')\n",
    "receber()\n",
    "dados=receber.dados   "
   ]
  },
  {
   "cell_type": "code",
   "execution_count": 8,
   "metadata": {},
   "outputs": [
    {
     "output_type": "stream",
     "name": "stdout",
     "text": "1.7\n15\n"
    }
   ],
   "source": [
    "print(dados[1].get(\"A\"))\n",
    "print(dados[1].get(\"L\"))"
   ]
  },
  {
   "cell_type": "code",
   "execution_count": 9,
   "metadata": {},
   "outputs": [],
   "source": [
    "receber=Receber(nomeRef='28-3-2020b')\n",
    "receber()\n",
    "dados2=receber.dados "
   ]
  },
  {
   "cell_type": "code",
   "execution_count": 10,
   "metadata": {},
   "outputs": [
    {
     "output_type": "stream",
     "name": "stdout",
     "text": "1.7\n15\n"
    }
   ],
   "source": [
    "print(dados[1].get(\"A\"))\n",
    "print(dados[1].get(\"L\"))"
   ]
  },
  {
   "cell_type": "code",
   "execution_count": 11,
   "metadata": {},
   "outputs": [],
   "source": [
    "dados=dados+dados2"
   ]
  },
  {
   "cell_type": "code",
   "execution_count": 12,
   "metadata": {},
   "outputs": [],
   "source": [
    "concentracao =[0, 0.021, 0.025, 0.04, 0.05,  0.06, 0.07,  0.075, 0.08, 0.09,  0.1,  0.11, 0.12,0.13, 0.14, 0.15, 0.16, 0.17, 0.18, 0.198, 0.2, 0.22]"
   ]
  },
  {
   "cell_type": "code",
   "execution_count": 71,
   "metadata": {},
   "outputs": [],
   "source": [
    "class Resultado():\n",
    "    def __init__(self, **kwargs):\n",
    "        self.dados=kwargs.get('dados')\n",
    "        \n",
    "    def plotDiagrama(self, L=10, A=1.7, **kargs):\n",
    "        concentracao=kargs.get(\"concentracao\")\n",
    "        p=js.grace()\n",
    "        p.yaxis(label='tc',charsize=1.50)\n",
    "        p.xaxis(label='q',charsize=1.50)\n",
    "        x=[]\n",
    "        y=[]   \n",
    "        for q in concentracao: \n",
    "            for dado in self.dados:\n",
    "                if dado.get('p')== q and dado.get('L')==L and dado.get('A')==A:\n",
    "                    y.append(dado.get('tc'))\n",
    "                    x.append(q)\n",
    "        p.plot(x,y,symbol=-1,line=[1,1,''],legend='Q=$q')\n",
    "    \n",
    "   \n",
    "    def plotDiagramaFiltrado(self,L=10, A=1.7,Z=2.5, **kargs):\n",
    "        concentracao=kargs.get(\"concentracao\")\n",
    "        p=js.grace()\n",
    "        p.yaxis(label='tc',charsize=1.50)\n",
    "        p.xaxis(label='q',charsize=1.50)\n",
    "        for q in concentracao: \n",
    "            x=[]\n",
    "            y=[]   \n",
    "            for dado in self.dados:\n",
    "                if dado.get('p')== q and dado.get('L')==L and dado.get('A')==A:\n",
    "                    y.append(dado.get('tc'))\n",
    "                    x.append(q)\n",
    "            zscore=stats.zscore(np.array(y))\n",
    "            X=[]\n",
    "            Y=[]\n",
    "            for xx,yy,zz in zip(x, y, zscore.tolist()):\n",
    "                if abs(zz) < Z:\n",
    "                    Y.append(yy)\n",
    "                    X.append(xx)\n",
    "            p.plot(X,Y,symbol=-1,line=[1,1,''],legend='Q=$q')\n",
    "\n",
    "    def plotDiagramaMedio(self, L=10, A=1.7, Z=2.5, **kargs):\n",
    "        concentracao=kargs.get(\"concentracao\")\n",
    "        p=js.grace()\n",
    "        p.yaxis(label='tc',charsize=1.50)\n",
    "        p.xaxis(label='q',charsize=1.50)\n",
    "        xmedia=[]\n",
    "        ymedia=[]\n",
    "        yErro=[]\n",
    "        for q in concentracao: \n",
    "            x=[]\n",
    "            y=[]   \n",
    "            for dado in self.dados:\n",
    "                if dado.get('p')== q and dado.get('L')==L and dado.get('A')==A:\n",
    "                    y.append(dado.get('tc'))\n",
    "                    x.append(q)\n",
    "            zscore=stats.zscore(np.array(y))\n",
    "            X=[]\n",
    "            Y=[]\n",
    "            for xx,yy,zz in zip(x, y, zscore.tolist()):\n",
    "                if abs(zz) < Z:\n",
    "                    Y.append(yy)\n",
    "                    X.append(xx)\n",
    "            ymedia.append(np.average(Y))\n",
    "            yErro.append(np.std(Y)/(math.sqrt(len(Y))))\n",
    "            xmedia.append(np.average(X))\n",
    "        p.plot(xmedia,ymedia,yErro,symbol=-1,line=[1,1,''],legend='p')\n",
    "   \n",
    "    def plot(self,L=10, A=1.7, x='t', y='sus', **kargs):\n",
    "        concentracao=kargs.get(\"concentracao\")\n",
    "        p=js.grace()\n",
    "        p.yaxis(label=y,charsize=1.50)\n",
    "        p.xaxis(label=x,charsize=1.50)\n",
    "        for i, q in enumerate(concentracao):\n",
    "            for dado in self.dados:\n",
    "                if dado.get('p')== q and dado.get('L')==L and dado.get('A')==A:\n",
    "                    p.plot(dado.get(x), dado.get(y), symbol=[0,0.3,i], line =[1,1,i])\n",
    "                    \n",
    "    \n",
    "    def plotMedia(self,L=10, A=1.7, x='t', y='sus', **kargs):\n",
    "        concentracao=kargs.get(\"concentracao\")\n",
    "        tamanhos=kargs.get(\"tamanhos\")\n",
    "        if not tamanhos:\n",
    "            tamanhos=[L]\n",
    "        p=js.grace()\n",
    "        p.yaxis(label=y,charsize=1.50)\n",
    "        p.xaxis(label=x,charsize=1.50)  \n",
    "        cont=0\n",
    "        for L in tamanhos:\n",
    "            for i, q in enumerate(concentracao):\n",
    "                somaY=np.zeros(len(dados[0].get(x)), dtype=float)\n",
    "                cont=0\n",
    "                for dado in self.dados:\n",
    "                    if dado.get('p')== q and dado.get('L')==L and dado.get('A')==A:\n",
    "                        somaY += np.array(dado.get(y))\n",
    "                        if cont==0 :\n",
    "                            xx=dado.get(x)\n",
    "                        cont += 1\n",
    "                somaY= somaY/cont\n",
    "                p.plot(xx, somaY.tolist(), symbol=[0,0.3,i], line =[1,2,i] ,legend='q='+repr(q))\n",
    "\n",
    "    def plotDiagramaCruzamentoMedia(self,L=10, A=1.7,  x='t', y='sus', **kargs):\n",
    "        concentracao=kargs.get(\"concentracao\")\n",
    "        tamanhos=kargs.get(\"tamanhos\")\n",
    "        if not tamanhos:\n",
    "            tamanhos=[L]\n",
    "        p=js.grace()\n",
    "        p.yaxis(label=y,charsize=1.50)\n",
    "        p.xaxis(label=x,charsize=1.50)  \n",
    "        cont=0\n",
    "        tcs=[]\n",
    "        for i, q in enumerate(concentracao):\n",
    "            somaY1=np.zeros(len(dados[0].get(x)), dtype=float)\n",
    "            somaY2=np.zeros(len(dados[0].get(x)), dtype=float)\n",
    "            cont1=0\n",
    "            cont2=0\n",
    "            for dado in self.dados:\n",
    "                if dado.get('p')== q and dado.get('L')==tamanhos[0] and dado.get('A')==A:\n",
    "                    somaY1 += np.array(dado.get(y))\n",
    "                    if cont==0 :\n",
    "                        xx1=dado.get(x)\n",
    "                    cont1 += 1\n",
    "                if dado.get('p')== q and dado.get('L')==tamanhos[1] and dado.get('A')==A:\n",
    "                    somaY2 += np.array(dado.get(y))\n",
    "                    if cont==0 :\n",
    "                        xx2=dado.get(x)\n",
    "                        t0=dado.get(\"tc\")\n",
    "                    cont2 += 1\n",
    "            somaY1= somaY1/cont1\n",
    "            somaY2= somaY2/cont2\n",
    "            tc=self.cruzamento(xx1,somaY1.tolist(),xx2, somaY2.tolist(), t0)[0]\n",
    "            tcs.append(tc)\n",
    "        print(tcs)\n",
    "        p.plot(concentracao, tcs, symbol=[0,0.3,1], line =[1,2,1] )\n",
    "\n",
    "\n",
    "    def plotFiltrados(self, Z=2.5, x='t', y='sus', L=10, A=1.7, **kargs):\n",
    "        concentracao=kargs.get(\"concentracao\")\n",
    "        p=js.grace()\n",
    "        p.yaxis(label=y,charsize=1.50)\n",
    "        p.xaxis(label=x,charsize=1.50)\n",
    "        for i, q in enumerate(concentracao):\n",
    "            Y=[]\n",
    "            CurvasX=[]\n",
    "            CurvasY=[]\n",
    "            for dado in self.dados:\n",
    "                if dado.get('p')== q and dado.get('L')==L and dado.get('A')==A:\n",
    "                    Y.append(dado.get('tc'))\n",
    "                    CurvasX.append(dado.get(x))\n",
    "                    CurvasY.append(dado.get(y))\n",
    "            zscore=stats.zscore(np.array(Y))        \n",
    "            for zz,tt,suss in zip(zscore.tolist(),CurvasX,CurvasY):\n",
    "                if abs(zz) < Z:\n",
    "                    p.plot(tt,suss, symbol=[0,0.3,i], line  =[1,1,i])#,legend='Q=$q')\n",
    "    \n",
    "    def PlotCruzamentos(self,A=1.7, Z=2.5, **kargs):\n",
    "        concentracao=kargs.get(\"concentracao\")\n",
    "        tamanhos=kargs.get(\"tamanhos\")\n",
    "        tcmedio=[]\n",
    "        tcerro=[]\n",
    "        p=js.grace()\n",
    "        p.yaxis(label='tc',charsize=1.50)\n",
    "        p.xaxis(label='q',charsize=1.50)\n",
    "        for q in concentracao:\n",
    "            listasx1=[]\n",
    "            listasy1=[]\n",
    "            listast01=[]\n",
    "\n",
    "            listasx2=[]\n",
    "            listasy2=[]\n",
    "            listast02=[]\n",
    "            for dado in self.dados:\n",
    "                if dado.get('p')== q and dado.get('L')==tamanhos[0] and dado.get('A')==A:\n",
    "                    listasx1.append(dado.get('t'))\n",
    "                    listasy1.append(dado.get('cumo'))\n",
    "                    listast01.append(dado.get('tc'))\n",
    "                if dado.get('p')== q and dado.get('L')==tamanhos[1] and dado.get('A')==A:\n",
    "                    listasx2.append(dado.get('t'))\n",
    "                    listasy2.append(dado.get('cumo'))\n",
    "                    listast02.append(dado.get('tc'))\n",
    "            \n",
    "            listasX1=[]\n",
    "            listasY1=[]\n",
    "            listasT01=[]\n",
    "            zscore=stats.zscore(np.array(listast01))        \n",
    "            for zz,xx1,yy1, tt1 in zip(zscore.tolist(),listasx1,listasy1,listast01):\n",
    "                if abs(zz) < Z:\n",
    "                    listasX1.append(xx1)\n",
    "                    listasY1.append(yy1)\n",
    "                    listasT01.append(tt1)\n",
    "            \n",
    "            \n",
    "            listasX2=[]\n",
    "            listasY2=[]\n",
    "            listasT02=[]\n",
    "            zscore=stats.zscore(np.array(listast02))        \n",
    "            for zz,xx2,yy2, tt2 in zip(zscore.tolist(),listasx2,listasy2,listast02):\n",
    "                if abs(zz) < Z:\n",
    "                    listasX2.append(xx2)\n",
    "                    listasY2.append(yy2)\n",
    "                    listasT02.append(tt2)\n",
    "\n",
    "            xCrossing=[]\n",
    "            yCrossing=[]\n",
    "            for x1, y1  in zip(listasX1, listasY1):\n",
    "                interp1 = scipy.interpolate.InterpolatedUnivariateSpline(x1, y1)\n",
    "                for x2, y2 , x0 in zip(listasX2, listasY2, listasT02):\n",
    "                    interp2 = scipy.interpolate.InterpolatedUnivariateSpline(x2, y2)\n",
    "                    x_at_crossing = scipy.optimize.fsolve(lambda x : np.abs(interp1(x) - interp2(x)), x0=x0)\n",
    "                    xc=x_at_crossing[0]\n",
    "                    #yc=interp1(xc)\n",
    "                    xCrossing.append(xc)\n",
    "                    #yCrossing.append(yc)\n",
    "            zscore=stats.zscore(np.array(xCrossing))        \n",
    "            for zz,tcc in zip(zscore.tolist(),xCrossing):\n",
    "                if abs(zz) < Z:\n",
    "                    yCrossing.append(tcc)\n",
    "            tcmedio.append(np.mean(yCrossing))\n",
    "            tcerro.append(np.std(yCrossing)/math.sqrt(len(xCrossing)))\n",
    "        p.plot(concentracao,tcmedio,tcerro,symbol=-1,line=[1,1,''],legend='p')\n",
    "\n",
    "    def crossings(listasX1, listasY1, listasX2, listasY2, x0): # chute inicial \n",
    "        self.xCrossing=[]\n",
    "        self.yCrossing=[]\n",
    "        for x1, y1  in zip(listasX1, listasY1[i]):\n",
    "            interp1 = scipy.interpolate.InterpolatedUnivariateSpline(x1, y1)\n",
    "            for x2, y2  in zip(listasX2, listasY2[i]):\n",
    "                interp2 = scipy.interpolate.InterpolatedUnivariateSpline(x2, y2)\n",
    "                x_at_crossing = scipy.optimize.fsolve(lambda x : np.abs(interp1(x) - interp2(x)), x0=x0)\n",
    "                xc=x_at_crossing[0]\n",
    "                yc=interp1(xc)\n",
    "                self.xCrossing.append(xc)\n",
    "                self.yCrossing.append(yc)\n",
    "    def cruzamento(self, x1, y1, x2, y2, x0):\n",
    "                interp1 = scipy.interpolate.InterpolatedUnivariateSpline(x1, y1)\n",
    "                interp2 = scipy.interpolate.InterpolatedUnivariateSpline(x2, y2)\n",
    "                x = scipy.optimize.fsolve(lambda x : np.abs(interp1(x) - interp2(x)), x0=x0)\n",
    "                return x \n",
    "     "
   ]
  },
  {
   "cell_type": "code",
   "execution_count": 72,
   "metadata": {},
   "outputs": [],
   "source": [
    "resultado = Resultado(dados=dados)"
   ]
  },
  {
   "cell_type": "code",
   "execution_count": 36,
   "metadata": {},
   "outputs": [],
   "source": [
    "resultado.plotDiagrama(L=20, A=1.7, concentracao=concentracao)"
   ]
  },
  {
   "cell_type": "code",
   "execution_count": 46,
   "metadata": {},
   "outputs": [],
   "source": [
    "resultado.plotDiagramaFiltrado(L=20,A=1.7, Z=2, concentracao=concentracao)"
   ]
  },
  {
   "cell_type": "code",
   "execution_count": 56,
   "metadata": {},
   "outputs": [],
   "source": [
    "resultado.plotDiagramaMedio(L=20,A=1.7,Z=2,concentracao=concentracao)"
   ]
  },
  {
   "cell_type": "code",
   "execution_count": 16,
   "metadata": {},
   "outputs": [],
   "source": [
    "resultado.plotDiagramaMedio(L=10,A=1.7,concentracao=concentracao)"
   ]
  },
  {
   "cell_type": "code",
   "execution_count": 17,
   "metadata": {},
   "outputs": [],
   "source": [
    "resultado.plot(L=15,A=1.7, concentracao=concentracao)"
   ]
  },
  {
   "cell_type": "code",
   "execution_count": 78,
   "metadata": {},
   "outputs": [],
   "source": [
    "resultado.plotMedia(L=15,A=1.7, concentracao=concentracao)"
   ]
  },
  {
   "cell_type": "code",
   "execution_count": 18,
   "metadata": {},
   "outputs": [],
   "source": [
    "resultado.plotMedia(L=10,A=1.7, concentracao=concentracao)"
   ]
  },
  {
   "cell_type": "code",
   "execution_count": 80,
   "metadata": {},
   "outputs": [],
   "source": [
    "resultado.plotMedia(L=15,A=1.7,y=\"calor\", concentracao=concentracao)"
   ]
  },
  {
   "cell_type": "code",
   "execution_count": 81,
   "metadata": {},
   "outputs": [],
   "source": [
    "resultado.plotMedia(L=15,A=1.7,y=\"cumo\", concentracao=concentracao)"
   ]
  },
  {
   "cell_type": "code",
   "execution_count": 52,
   "metadata": {},
   "outputs": [],
   "source": [
    "resultado.plotMedia(A=1.7,y=\"cumo\", concentracao=concentracao, tamanhos=[10 , 15, 20])"
   ]
  },
  {
   "cell_type": "code",
   "execution_count": 20,
   "metadata": {},
   "outputs": [],
   "source": [
    "resultado.plotFiltrados(L=15,A=1.7,  concentracao=concentracao)"
   ]
  },
  {
   "cell_type": "code",
   "execution_count": 57,
   "metadata": {},
   "outputs": [],
   "source": [
    "resultado.plotMedia(A=1.7, concentracao=concentracao, tamanhos=[10 , 15, 20])"
   ]
  },
  {
   "cell_type": "code",
   "execution_count": 58,
   "metadata": {},
   "outputs": [],
   "source": [
    "resultado.plotMedia(A=1.7, y='calor',concentracao=concentracao, tamanhos=[10 , 15, 20])"
   ]
  },
  {
   "cell_type": "code",
   "execution_count": 73,
   "metadata": {},
   "outputs": [],
   "source": [
    "resultado.PlotCruzamentos(A=1.7, Z=5 ,concentracao=concentracao, tamanhos=[15 , 20])"
   ]
  },
  {
   "cell_type": "code",
   "execution_count": 15,
   "metadata": {},
   "outputs": [
    {
     "output_type": "stream",
     "name": "stdout",
     "text": "[2.003603675209762, 2.1692257235548995, 1.9167806377966523, 1.9315933226375819, 1.9448571301839344, 1.9734224023218274, 1.970762658472501, 1.9699188909865224, 2.0817963411692624, 2.1891079001248492, 1.9585311799681115, 1.9168574502162923, 2.0149665999999886, 1.8952045595860074, 2.1085479078428073, 1.9839012726468053, 1.8805640286814318, 1.8571504282908273, 1.8590298437417818, 2.043741727438938, 1.820145062867539, 1.9969509235431668]\n"
    }
   ],
   "source": [
    "resultado.plotDiagramaCruzamentoMedia(A=1.7, concentracao=concentracao, tamanhos=[10 , 15])"
   ]
  },
  {
   "cell_type": "code",
   "execution_count": null,
   "metadata": {},
   "outputs": [],
   "source": []
  }
 ]
}